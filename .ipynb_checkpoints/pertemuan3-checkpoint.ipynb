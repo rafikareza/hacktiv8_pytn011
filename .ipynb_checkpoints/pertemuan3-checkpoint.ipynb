{
 "cells": [
  {
   "cell_type": "markdown",
   "metadata": {},
   "source": [
    "# Function, Module, Package"
   ]
  },
  {
   "cell_type": "markdown",
   "metadata": {},
   "source": [
    "## definisi function"
   ]
  },
  {
   "cell_type": "code",
   "execution_count": 1,
   "metadata": {},
   "outputs": [],
   "source": [
    "def menyapa():\n",
    "    while True:\n",
    "        message = input(\"ketik karakter: \").lower()\n",
    "        print(message)\n",
    "        if (message == 'stop'):\n",
    "            break;"
   ]
  },
  {
   "cell_type": "code",
   "execution_count": 2,
   "metadata": {},
   "outputs": [
    {
     "name": "stdin",
     "output_type": "stream",
     "text": [
      "ketik karakter:  saya\n"
     ]
    },
    {
     "name": "stdout",
     "output_type": "stream",
     "text": [
      "saya\n"
     ]
    },
    {
     "name": "stdin",
     "output_type": "stream",
     "text": [
      "ketik karakter:  keren\n"
     ]
    },
    {
     "name": "stdout",
     "output_type": "stream",
     "text": [
      "keren\n"
     ]
    },
    {
     "name": "stdin",
     "output_type": "stream",
     "text": [
      "ketik karakter:  stop\n"
     ]
    },
    {
     "name": "stdout",
     "output_type": "stream",
     "text": [
      "stop\n"
     ]
    }
   ],
   "source": [
    "menyapa()"
   ]
  },
  {
   "cell_type": "markdown",
   "metadata": {},
   "source": [
    "## parameter (argumen) function"
   ]
  },
  {
   "cell_type": "code",
   "execution_count": 3,
   "metadata": {},
   "outputs": [],
   "source": [
    "def menyapaNama(nama):\n",
    "    while True:\n",
    "        message = input(\"ketik karakter: \").lower()\n",
    "        print(message, nama)\n",
    "        if (message == 'stop'):\n",
    "            break;"
   ]
  },
  {
   "cell_type": "code",
   "execution_count": 4,
   "metadata": {},
   "outputs": [
    {
     "name": "stdin",
     "output_type": "stream",
     "text": [
      "ketik karakter:  halo hai\n"
     ]
    },
    {
     "name": "stdout",
     "output_type": "stream",
     "text": [
      "halo hai andika\n"
     ]
    },
    {
     "name": "stdin",
     "output_type": "stream",
     "text": [
      "ketik karakter:  saya andika\n"
     ]
    },
    {
     "name": "stdout",
     "output_type": "stream",
     "text": [
      "saya andika andika\n"
     ]
    },
    {
     "name": "stdin",
     "output_type": "stream",
     "text": [
      "ketik karakter:  stop\n"
     ]
    },
    {
     "name": "stdout",
     "output_type": "stream",
     "text": [
      "stop andika\n"
     ]
    }
   ],
   "source": [
    "menyapaNama(\"andika\")"
   ]
  },
  {
   "cell_type": "code",
   "execution_count": 5,
   "metadata": {},
   "outputs": [],
   "source": [
    "def hello(nama, waktu):\n",
    "    print(\"selamat\", waktu, nama)"
   ]
  },
  {
   "cell_type": "code",
   "execution_count": 6,
   "metadata": {},
   "outputs": [
    {
     "name": "stdout",
     "output_type": "stream",
     "text": [
      "selamat malam andika\n"
     ]
    }
   ],
   "source": [
    "hello (\"andika\",\"malam\")"
   ]
  },
  {
   "cell_type": "code",
   "execution_count": 7,
   "metadata": {},
   "outputs": [
    {
     "name": "stdout",
     "output_type": "stream",
     "text": [
      "selamat siang vienna\n"
     ]
    }
   ],
   "source": [
    "hello (\"vienna\", \"siang\")\n"
   ]
  },
  {
   "cell_type": "code",
   "execution_count": 10,
   "metadata": {},
   "outputs": [
    {
     "ename": "TypeError",
     "evalue": "hello() missing 2 required positional arguments: 'nama' and 'waktu'",
     "output_type": "error",
     "traceback": [
      "\u001b[1;31m---------------------------------------------------------------------------\u001b[0m",
      "\u001b[1;31mTypeError\u001b[0m                                 Traceback (most recent call last)",
      "\u001b[1;32m<ipython-input-10-a75d7781aaeb>\u001b[0m in \u001b[0;36m<module>\u001b[1;34m\u001b[0m\n\u001b[1;32m----> 1\u001b[1;33m \u001b[0mhello\u001b[0m\u001b[1;33m(\u001b[0m\u001b[1;33m)\u001b[0m\u001b[1;33m\u001b[0m\u001b[1;33m\u001b[0m\u001b[0m\n\u001b[0m",
      "\u001b[1;31mTypeError\u001b[0m: hello() missing 2 required positional arguments: 'nama' and 'waktu'"
     ]
    }
   ],
   "source": [
    "hello()"
   ]
  },
  {
   "cell_type": "code",
   "execution_count": 11,
   "metadata": {},
   "outputs": [
    {
     "name": "stdout",
     "output_type": "stream",
     "text": [
      "selamat 2 1\n"
     ]
    }
   ],
   "source": [
    "hello(1, 2)"
   ]
  },
  {
   "cell_type": "markdown",
   "metadata": {},
   "source": [
    "## return di sebuah function"
   ]
  },
  {
   "cell_type": "code",
   "execution_count": 12,
   "metadata": {},
   "outputs": [
    {
     "name": "stdout",
     "output_type": "stream",
     "text": [
      "selamat sore adi\n",
      "None\n"
     ]
    }
   ],
   "source": [
    "print(hello(\"adi\",\"sore\"))"
   ]
  },
  {
   "cell_type": "code",
   "execution_count": 16,
   "metadata": {},
   "outputs": [],
   "source": [
    "def menulis(nama, waktu):\n",
    "    return \"selamat \" + waktu + \" \" + nama "
   ]
  },
  {
   "cell_type": "code",
   "execution_count": 17,
   "metadata": {},
   "outputs": [
    {
     "name": "stdout",
     "output_type": "stream",
     "text": [
      "selamat sore adi\n"
     ]
    }
   ],
   "source": [
    "hasil = menulis(\"adi\", \"sore\")\n",
    "\n",
    "print(hasil) #selamat sore adi"
   ]
  },
  {
   "cell_type": "code",
   "execution_count": 18,
   "metadata": {},
   "outputs": [],
   "source": [
    "def cekGanjilGenap(num):\n",
    "    if (num % 2 == 0):\n",
    "        print(\"genap\")\n",
    "    else:\n",
    "        print(\"ganjil\")\n"
   ]
  },
  {
   "cell_type": "code",
   "execution_count": 19,
   "metadata": {},
   "outputs": [
    {
     "name": "stdout",
     "output_type": "stream",
     "text": [
      "ganjil\n"
     ]
    }
   ],
   "source": [
    "cekGanjilGenap(21)"
   ]
  },
  {
   "cell_type": "code",
   "execution_count": 21,
   "metadata": {},
   "outputs": [
    {
     "name": "stdout",
     "output_type": "stream",
     "text": [
      "ganjil\n",
      "kena tilang\n"
     ]
    }
   ],
   "source": [
    "hari_ini = \"genap\"\n",
    "if(hari_ini != cekGanjilGenap(1783)):\n",
    "    print(\"kena tilang\")"
   ]
  },
  {
   "cell_type": "code",
   "execution_count": 1,
   "metadata": {},
   "outputs": [
    {
     "data": {
      "text/plain": [
       "'a'"
      ]
     },
     "execution_count": 1,
     "metadata": {},
     "output_type": "execute_result"
    }
   ],
   "source": [
    "\"gan\"\n",
    "\"a\""
   ]
  },
  {
   "cell_type": "markdown",
   "metadata": {},
   "source": [
    "## Pass by Reference VS by Value\n"
   ]
  },
  {
   "cell_type": "code",
   "execution_count": 4,
   "metadata": {},
   "outputs": [
    {
     "name": "stdout",
     "output_type": "stream",
     "text": [
      "20\n",
      "200\n",
      "10\n"
     ]
    }
   ],
   "source": [
    "a = 10\n",
    "b = a\n",
    "b = 100\n",
    "\n",
    "def perkalian(num1, num2):\n",
    "    num1 = 20\n",
    "    print(num1)\n",
    "    return num1 * num2\n",
    "\n",
    "hasil = perkalian(a,a)\n",
    "print(hasil)\n",
    "\n",
    "print(a) # pass by value, karena data di dalan a bertipe simple\n"
   ]
  },
  {
   "cell_type": "code",
   "execution_count": 29,
   "metadata": {},
   "outputs": [
    {
     "name": "stdout",
     "output_type": "stream",
     "text": [
      "['apel', 'pisang', 'jeruk']\n",
      "['apel', 'pisang', 'jeruk', 'duku']\n",
      "['apel', 'pisang', 'jeruk', 'duku']\n"
     ]
    }
   ],
   "source": [
    "list_buah = [\"apel\", \"pisang\", \"jeruk\"]\n",
    "\n",
    "def nambah(l, b):\n",
    "    print(l)\n",
    "    l.append(b)\n",
    "    print(l)\n",
    "    \n",
    "nambah(list_buah, \"duku\")\n",
    "\n",
    "print(list_buah) # pass by reference, karena l hanya \"menunjuk\" ke rumahnya list_buah tapi gak bikin rumah sendiri"
   ]
  },
  {
   "cell_type": "markdown",
   "metadata": {},
   "source": [
    "tipe data list, tuple, dan dictionary akan kena pass by reference. Jadi, saat data itu dipanggil, komputer bukannya bikin copyan data yang baru, dia malah mereferensi data awal"
   ]
  },
  {
   "cell_type": "code",
   "execution_count": 25,
   "metadata": {},
   "outputs": [
    {
     "name": "stdout",
     "output_type": "stream",
     "text": [
      "['apel', 'pisang', 'jeruk', 'nangka']\n",
      "['apel', 'pisang', 'jeruk', 'nangka']\n"
     ]
    }
   ],
   "source": [
    "list_buah = [\"apel\", \"pisang\", \"jeruk\"]\n",
    "list_baru = list_buah\n",
    "list_baru.append(\"nangka\")\n",
    "print(list_buah)\n",
    "print(list_baru)"
   ]
  },
  {
   "cell_type": "code",
   "execution_count": 5,
   "metadata": {},
   "outputs": [
    {
     "name": "stdout",
     "output_type": "stream",
     "text": [
      "['apel', 'pisang', 'jeruk']\n",
      "['apel', 'pisang', 'jeruk', 'duku']\n",
      "['apel', 'pisang', 'jeruk']\n"
     ]
    }
   ],
   "source": [
    "# teknik deep copy \n",
    "list_buah = [\"apel\", 'pisang', \"jeruk\"]\n",
    "\n",
    "def nambah(l, b):\n",
    "    # L kita buat jadi sebuah deep copy\n",
    "    # untuk setiap item dalam list yang diberikan, kita copy ke list baru\n",
    "    l_baru = [] # rumah baru\n",
    "    for item in l:\n",
    "        l_baru.append(item)\n",
    "    print (l_baru)\n",
    "    l_baru.append(b)\n",
    "    print(l_baru)\n",
    "    \n",
    "nambah(list_buah, \"duku\")\n",
    "print(list_buah)\n"
   ]
  },
  {
   "cell_type": "markdown",
   "metadata": {},
   "source": [
    "## tipe tipe argument(parameter) function\n",
    "- required\n",
    "- keyword\n",
    "- default\n",
    "- variable lenght"
   ]
  },
  {
   "cell_type": "code",
   "execution_count": 31,
   "metadata": {},
   "outputs": [
    {
     "ename": "TypeError",
     "evalue": "hello() missing 2 required positional arguments: 'nama' and 'waktu'",
     "output_type": "error",
     "traceback": [
      "\u001b[1;31m---------------------------------------------------------------------------\u001b[0m",
      "\u001b[1;31mTypeError\u001b[0m                                 Traceback (most recent call last)",
      "\u001b[1;32m<ipython-input-31-2d95d4805e03>\u001b[0m in \u001b[0;36m<module>\u001b[1;34m\u001b[0m\n\u001b[0;32m      3\u001b[0m     \u001b[0mprint\u001b[0m\u001b[1;33m(\u001b[0m\u001b[1;34m\"selamat\"\u001b[0m\u001b[1;33m,\u001b[0m \u001b[0mwaktu\u001b[0m\u001b[1;33m,\u001b[0m \u001b[0mnama\u001b[0m\u001b[1;33m)\u001b[0m\u001b[1;33m\u001b[0m\u001b[1;33m\u001b[0m\u001b[0m\n\u001b[0;32m      4\u001b[0m \u001b[1;33m\u001b[0m\u001b[0m\n\u001b[1;32m----> 5\u001b[1;33m \u001b[0mhello\u001b[0m\u001b[1;33m(\u001b[0m\u001b[1;33m)\u001b[0m\u001b[1;31m# kita panggil tapi tidak kasih argumen jadi error\u001b[0m\u001b[1;33m\u001b[0m\u001b[1;33m\u001b[0m\u001b[0m\n\u001b[0m",
      "\u001b[1;31mTypeError\u001b[0m: hello() missing 2 required positional arguments: 'nama' and 'waktu'"
     ]
    }
   ],
   "source": [
    "#required - harus ada\n",
    "def hello(nama, waktu):\n",
    "    print(\"selamat\", waktu, nama)\n",
    "    \n",
    "hello()# kita panggil tapi tidak kasih argumen jadi error\n"
   ]
  },
  {
   "cell_type": "code",
   "execution_count": 32,
   "metadata": {},
   "outputs": [
    {
     "name": "stdout",
     "output_type": "stream",
     "text": [
      "selamat pagi adi\n"
     ]
    }
   ],
   "source": [
    "#keyword argumennya bisa kita kasih secara tidak urut\n",
    "def hello(nama, waktu):\n",
    "    print(\"selamat\", waktu, nama)\n",
    "    \n",
    "hello(waktu = \"pagi\", nama = \"adi\") # tidak harus diisi argumennya hello(\"adi\", \"pagi\")\n"
   ]
  },
  {
   "cell_type": "code",
   "execution_count": 35,
   "metadata": {},
   "outputs": [
    {
     "name": "stdout",
     "output_type": "stream",
     "text": [
      "selamat pagi rafika\n",
      "selamat malam rafika\n",
      "selamat malam anda\n"
     ]
    }
   ],
   "source": [
    "#default - argumennya bisa diisi secara default\n",
    "def hello(nama = \"anda\", waktu = \"malam\"):\n",
    "    print(\"selamat\", waktu, nama)\n",
    "\n",
    "hello(\"rafika\", \"pagi\")    \n",
    "hello(\"rafika\") \n",
    "hello()"
   ]
  },
  {
   "cell_type": "code",
   "execution_count": 6,
   "metadata": {},
   "outputs": [
    {
     "name": "stdout",
     "output_type": "stream",
     "text": [
      "('adi', 'budi', 'cindy', 'erika')\n",
      "selamat pagi adi\n",
      "selamat pagi budi\n",
      "selamat pagi cindy\n",
      "selamat pagi erika\n"
     ]
    }
   ],
   "source": [
    "# variable length - jumlah argumen bisa 0 - sebnyaknya, terserah jumlahnya\n",
    "def hello(*nama, waktu = \"malam\"):\n",
    "    print(nama)\n",
    "    for n in nama:\n",
    "        print(\"selamat\", waktu, n)\n",
    "        \n",
    "hello(\"adi\", \"budi\", \"cindy\", \"erika\", waktu = 'pagi')"
   ]
  },
  {
   "cell_type": "markdown",
   "metadata": {},
   "source": [
    "## lambda function"
   ]
  },
  {
   "cell_type": "code",
   "execution_count": 37,
   "metadata": {},
   "outputs": [],
   "source": [
    "x = lambda a1, a2, a3: a1 + a2 + a3"
   ]
  },
  {
   "cell_type": "code",
   "execution_count": 38,
   "metadata": {},
   "outputs": [
    {
     "data": {
      "text/plain": [
       "12"
      ]
     },
     "execution_count": 38,
     "metadata": {},
     "output_type": "execute_result"
    }
   ],
   "source": [
    "x(3,4,5)"
   ]
  },
  {
   "cell_type": "code",
   "execution_count": 40,
   "metadata": {},
   "outputs": [
    {
     "data": {
      "text/plain": [
       "15"
      ]
     },
     "execution_count": 40,
     "metadata": {},
     "output_type": "execute_result"
    }
   ],
   "source": [
    "def a(n):\n",
    "    def b(m):\n",
    "        return m * n\n",
    "    return b(5)\n",
    "a(3)"
   ]
  },
  {
   "cell_type": "code",
   "execution_count": 9,
   "metadata": {},
   "outputs": [
    {
     "data": {
      "text/plain": [
       "15"
      ]
     },
     "execution_count": 9,
     "metadata": {},
     "output_type": "execute_result"
    }
   ],
   "source": [
    "def a(n):\n",
    "    return lambda m: m * n\n",
    "a(3)(5)"
   ]
  },
  {
   "cell_type": "markdown",
   "metadata": {},
   "source": [
    "## scope of variable\n",
    "\n",
    "cek scope_variable.ipynb"
   ]
  },
  {
   "cell_type": "markdown",
   "metadata": {},
   "source": [
    "# Modules\n",
    "\n",
    "di contoh ini , kita membuat file \"matematik.py\" yang berisi variable dan function"
   ]
  },
  {
   "cell_type": "code",
   "execution_count": 10,
   "metadata": {},
   "outputs": [],
   "source": [
    "import matematik"
   ]
  },
  {
   "cell_type": "code",
   "execution_count": 11,
   "metadata": {},
   "outputs": [
    {
     "name": "stdout",
     "output_type": "stream",
     "text": [
      "3.14\n",
      "1.618\n"
     ]
    }
   ],
   "source": [
    "print(matematik.pi)\n",
    "print(matematik.golden_ratio)"
   ]
  },
  {
   "cell_type": "code",
   "execution_count": 12,
   "metadata": {},
   "outputs": [
    {
     "name": "stdout",
     "output_type": "stream",
     "text": [
      "True\n"
     ]
    }
   ],
   "source": [
    "print(matematik.cekGenap(10))"
   ]
  },
  {
   "cell_type": "code",
   "execution_count": 13,
   "metadata": {},
   "outputs": [
    {
     "data": {
      "text/plain": [
       "['C:\\\\Users\\\\LENOVO\\\\Documents\\\\HACKTIV8',\n",
       " 'C:\\\\Users\\\\LENOVO\\\\anaconda3\\\\python37.zip',\n",
       " 'C:\\\\Users\\\\LENOVO\\\\anaconda3\\\\DLLs',\n",
       " 'C:\\\\Users\\\\LENOVO\\\\anaconda3\\\\lib',\n",
       " 'C:\\\\Users\\\\LENOVO\\\\anaconda3',\n",
       " '',\n",
       " 'C:\\\\Users\\\\LENOVO\\\\anaconda3\\\\lib\\\\site-packages',\n",
       " 'C:\\\\Users\\\\LENOVO\\\\anaconda3\\\\lib\\\\site-packages\\\\win32',\n",
       " 'C:\\\\Users\\\\LENOVO\\\\anaconda3\\\\lib\\\\site-packages\\\\win32\\\\lib',\n",
       " 'C:\\\\Users\\\\LENOVO\\\\anaconda3\\\\lib\\\\site-packages\\\\Pythonwin',\n",
       " 'C:\\\\Users\\\\LENOVO\\\\anaconda3\\\\lib\\\\site-packages\\\\IPython\\\\extensions',\n",
       " 'C:\\\\Users\\\\LENOVO\\\\.ipython']"
      ]
     },
     "execution_count": 13,
     "metadata": {},
     "output_type": "execute_result"
    }
   ],
   "source": [
    "import sys\n",
    "sys.path"
   ]
  },
  {
   "cell_type": "code",
   "execution_count": 14,
   "metadata": {},
   "outputs": [
    {
     "data": {
      "text/plain": [
       "['C:\\\\Users\\\\LENOVO\\\\Documents\\\\HACKTIV8',\n",
       " 'C:\\\\Users\\\\LENOVO\\\\anaconda3\\\\python37.zip',\n",
       " 'C:\\\\Users\\\\LENOVO\\\\anaconda3\\\\DLLs',\n",
       " 'C:\\\\Users\\\\LENOVO\\\\anaconda3\\\\lib',\n",
       " 'C:\\\\Users\\\\LENOVO\\\\anaconda3',\n",
       " '',\n",
       " 'C:\\\\Users\\\\LENOVO\\\\anaconda3\\\\lib\\\\site-packages',\n",
       " 'C:\\\\Users\\\\LENOVO\\\\anaconda3\\\\lib\\\\site-packages\\\\win32',\n",
       " 'C:\\\\Users\\\\LENOVO\\\\anaconda3\\\\lib\\\\site-packages\\\\win32\\\\lib',\n",
       " 'C:\\\\Users\\\\LENOVO\\\\anaconda3\\\\lib\\\\site-packages\\\\Pythonwin',\n",
       " 'C:\\\\Users\\\\LENOVO\\\\anaconda3\\\\lib\\\\site-packages\\\\IPython\\\\extensions',\n",
       " 'C:\\\\Users\\\\LENOVO\\\\.ipython',\n",
       " 'C:\\\\User\\\\LENOVO\\\\Dekstop\\\\mods']"
      ]
     },
     "execution_count": 14,
     "metadata": {},
     "output_type": "execute_result"
    }
   ],
   "source": [
    "sys.path.append(r'C:\\User\\LENOVO\\Dekstop\\mods')\n",
    "sys.path"
   ]
  },
  {
   "cell_type": "code",
   "execution_count": 41,
   "metadata": {},
   "outputs": [],
   "source": [
    "import sys"
   ]
  },
  {
   "cell_type": "code",
   "execution_count": 42,
   "metadata": {},
   "outputs": [
    {
     "data": {
      "text/plain": [
       "['C:\\\\Users\\\\LENOVO\\\\Documents\\\\HACKTIV8',\n",
       " 'C:\\\\Users\\\\LENOVO\\\\anaconda3\\\\python37.zip',\n",
       " 'C:\\\\Users\\\\LENOVO\\\\anaconda3\\\\DLLs',\n",
       " 'C:\\\\Users\\\\LENOVO\\\\anaconda3\\\\lib',\n",
       " 'C:\\\\Users\\\\LENOVO\\\\anaconda3',\n",
       " '',\n",
       " 'C:\\\\Users\\\\LENOVO\\\\anaconda3\\\\lib\\\\site-packages',\n",
       " 'C:\\\\Users\\\\LENOVO\\\\anaconda3\\\\lib\\\\site-packages\\\\win32',\n",
       " 'C:\\\\Users\\\\LENOVO\\\\anaconda3\\\\lib\\\\site-packages\\\\win32\\\\lib',\n",
       " 'C:\\\\Users\\\\LENOVO\\\\anaconda3\\\\lib\\\\site-packages\\\\Pythonwin',\n",
       " 'C:\\\\Users\\\\LENOVO\\\\anaconda3\\\\lib\\\\site-packages\\\\IPython\\\\extensions',\n",
       " 'C:\\\\Users\\\\LENOVO\\\\.ipython']"
      ]
     },
     "execution_count": 42,
     "metadata": {},
     "output_type": "execute_result"
    }
   ],
   "source": [
    "sys.path"
   ]
  },
  {
   "cell_type": "markdown",
   "metadata": {},
   "source": [
    "## cara import yang berbeda"
   ]
  },
  {
   "cell_type": "code",
   "execution_count": 15,
   "metadata": {},
   "outputs": [],
   "source": [
    "from matematik import pi, golden_ratio, nambah"
   ]
  },
  {
   "cell_type": "code",
   "execution_count": 16,
   "metadata": {},
   "outputs": [
    {
     "name": "stdout",
     "output_type": "stream",
     "text": [
      "3.14 1.618 15\n"
     ]
    }
   ],
   "source": [
    "print(pi, golden_ratio, nambah(5, 10))"
   ]
  },
  {
   "cell_type": "code",
   "execution_count": 17,
   "metadata": {},
   "outputs": [],
   "source": [
    "from matematik import cekGenap as evenNumber"
   ]
  },
  {
   "cell_type": "code",
   "execution_count": 18,
   "metadata": {},
   "outputs": [
    {
     "data": {
      "text/plain": [
       "True"
      ]
     },
     "execution_count": 18,
     "metadata": {},
     "output_type": "execute_result"
    }
   ],
   "source": [
    "evenNumber(124)"
   ]
  },
  {
   "cell_type": "code",
   "execution_count": 19,
   "metadata": {},
   "outputs": [
    {
     "name": "stdout",
     "output_type": "stream",
     "text": [
      "3.14\n"
     ]
    }
   ],
   "source": [
    "import matematik as mtk\n",
    "print(mtk.pi)"
   ]
  },
  {
   "cell_type": "code",
   "execution_count": 20,
   "metadata": {},
   "outputs": [
    {
     "data": {
      "text/plain": [
       "False"
      ]
     },
     "execution_count": 20,
     "metadata": {},
     "output_type": "execute_result"
    }
   ],
   "source": [
    "mtk.cekGenap(225)"
   ]
  },
  {
   "cell_type": "code",
   "execution_count": 21,
   "metadata": {},
   "outputs": [
    {
     "data": {
      "text/plain": [
       "['In',\n",
       " 'Out',\n",
       " '_',\n",
       " '_1',\n",
       " '_13',\n",
       " '_14',\n",
       " '_18',\n",
       " '_20',\n",
       " '_9',\n",
       " '__',\n",
       " '___',\n",
       " '__builtin__',\n",
       " '__builtins__',\n",
       " '__doc__',\n",
       " '__loader__',\n",
       " '__name__',\n",
       " '__package__',\n",
       " '__spec__',\n",
       " '_dh',\n",
       " '_i',\n",
       " '_i1',\n",
       " '_i10',\n",
       " '_i11',\n",
       " '_i12',\n",
       " '_i13',\n",
       " '_i14',\n",
       " '_i15',\n",
       " '_i16',\n",
       " '_i17',\n",
       " '_i18',\n",
       " '_i19',\n",
       " '_i2',\n",
       " '_i20',\n",
       " '_i21',\n",
       " '_i3',\n",
       " '_i4',\n",
       " '_i5',\n",
       " '_i6',\n",
       " '_i7',\n",
       " '_i8',\n",
       " '_i9',\n",
       " '_ih',\n",
       " '_ii',\n",
       " '_iii',\n",
       " '_oh',\n",
       " 'a',\n",
       " 'b',\n",
       " 'evenNumber',\n",
       " 'exit',\n",
       " 'get_ipython',\n",
       " 'golden_ratio',\n",
       " 'hasil',\n",
       " 'hello',\n",
       " 'list_buah',\n",
       " 'matematik',\n",
       " 'mtk',\n",
       " 'nambah',\n",
       " 'perkalian',\n",
       " 'pi',\n",
       " 'quit',\n",
       " 'sys']"
      ]
     },
     "execution_count": 21,
     "metadata": {},
     "output_type": "execute_result"
    }
   ],
   "source": [
    "# pengecekan nama yang sudah kita pakai di file ini,\n",
    "# termasuk nama module, variable, dan function\n",
    "dir()"
   ]
  },
  {
   "cell_type": "code",
   "execution_count": 22,
   "metadata": {},
   "outputs": [],
   "source": [
    "import matematik"
   ]
  },
  {
   "cell_type": "code",
   "execution_count": 23,
   "metadata": {},
   "outputs": [
    {
     "data": {
      "text/plain": [
       "<module 'matematik' from 'C:\\\\Users\\\\LENOVO\\\\Documents\\\\HACKTIV8\\\\matematik.py'>"
      ]
     },
     "execution_count": 23,
     "metadata": {},
     "output_type": "execute_result"
    }
   ],
   "source": [
    "import importlib\n",
    "importlib.reload(matematik) #cara lain reload importnya selain restart kernel"
   ]
  },
  {
   "cell_type": "markdown",
   "metadata": {},
   "source": [
    "## membuat dan mengimport koleksi modul (package)"
   ]
  },
  {
   "cell_type": "code",
   "execution_count": 26,
   "metadata": {},
   "outputs": [],
   "source": [
    "import pkg.matematik"
   ]
  },
  {
   "cell_type": "code",
   "execution_count": 27,
   "metadata": {},
   "outputs": [
    {
     "data": {
      "text/plain": [
       "3.14"
      ]
     },
     "execution_count": 27,
     "metadata": {},
     "output_type": "execute_result"
    }
   ],
   "source": [
    "pkg.matematik.pi"
   ]
  },
  {
   "cell_type": "code",
   "execution_count": 28,
   "metadata": {},
   "outputs": [],
   "source": [
    "import pkg.menyapa as my"
   ]
  },
  {
   "cell_type": "code",
   "execution_count": 29,
   "metadata": {},
   "outputs": [
    {
     "data": {
      "text/plain": [
       "'andhika'"
      ]
     },
     "execution_count": 29,
     "metadata": {},
     "output_type": "execute_result"
    }
   ],
   "source": [
    "my.nama"
   ]
  },
  {
   "cell_type": "code",
   "execution_count": 31,
   "metadata": {},
   "outputs": [
    {
     "name": "stdout",
     "output_type": "stream",
     "text": [
      "pip 20.0.2 from C:\\Users\\LENOVO\\anaconda3\\lib\\site-packages\\pip (python 3.7)\n",
      "\n",
      "Note: you may need to restart the kernel to use updated packages.\n"
     ]
    }
   ],
   "source": [
    "pip --version"
   ]
  },
  {
   "cell_type": "code",
   "execution_count": 32,
   "metadata": {},
   "outputs": [
    {
     "name": "stdout",
     "output_type": "stream",
     "text": [
      "\n",
      "Usage:   \n",
      "  C:\\Users\\LENOVO\\anaconda3\\python.exe -m pip <command> [options]\n",
      "\n",
      "Commands:\n",
      "  install                     Install packages.\n",
      "  download                    Download packages.\n",
      "  uninstall                   Uninstall packages.\n",
      "  freeze                      Output installed packages in requirements format.\n",
      "  list                        List installed packages.\n",
      "  show                        Show information about installed packages.\n",
      "  check                       Verify installed packages have compatible dependencies.\n",
      "  config                      Manage local and global configuration.\n",
      "  search                      Search PyPI for packages.\n",
      "  wheel                       Build wheels from your requirements.\n",
      "  hash                        Compute hashes of package archives.\n",
      "  completion                  A helper command used for command completion.\n",
      "  debug                       Show information useful for debugging.\n",
      "  help                        Show help for commands.\n",
      "\n",
      "General Options:\n",
      "  -h, --help                  Show help.\n",
      "  --isolated                  Run pip in an isolated mode, ignoring\n",
      "                              environment variables and user configuration.\n",
      "  -v, --verbose               Give more output. Option is additive, and can be\n",
      "                              used up to 3 times.\n",
      "  -V, --version               Show version and exit.\n",
      "  -q, --quiet                 Give less output. Option is additive, and can be\n",
      "                              used up to 3 times (corresponding to WARNING,\n",
      "                              ERROR, and CRITICAL logging levels).\n",
      "  --log <path>                Path to a verbose appending log.\n",
      "  --proxy <proxy>             Specify a proxy in the form\n",
      "                              [user:passwd@]proxy.server:port.\n",
      "  --retries <retries>         Maximum number of retries each connection should\n",
      "                              attempt (default 5 times).\n",
      "  --timeout <sec>             Set the socket timeout (default 15 seconds).\n",
      "  --exists-action <action>    Default action when a path already exists:\n",
      "                              (s)witch, (i)gnore, (w)ipe, (b)ackup, (a)bort.\n",
      "  --trusted-host <hostname>   Mark this host or host:port pair as trusted,\n",
      "                              even though it does not have valid or any HTTPS.\n",
      "  --cert <path>               Path to alternate CA bundle.\n",
      "  --client-cert <path>        Path to SSL client certificate, a single file\n",
      "                              containing the private key and the certificate\n",
      "                              in PEM format.\n",
      "  --cache-dir <dir>           Store the cache data in <dir>.\n",
      "  --no-cache-dir              Disable the cache.\n",
      "  --disable-pip-version-check\n",
      "                              Don't periodically check PyPI to determine\n",
      "                              whether a new version of pip is available for\n",
      "                              download. Implied with --no-index.\n",
      "  --no-color                  Suppress colored output\n",
      "  --no-python-version-warning\n",
      "                              Silence deprecation warnings for upcoming\n",
      "                              unsupported Pythons.\n",
      "Note: you may need to restart the kernel to use updated packages.\n"
     ]
    }
   ],
   "source": [
    "pip help"
   ]
  },
  {
   "cell_type": "code",
   "execution_count": 34,
   "metadata": {},
   "outputs": [
    {
     "name": "stdout",
     "output_type": "stream",
     "text": [
      "Requirement already satisfied: requests in c:\\users\\lenovo\\anaconda3\\lib\\site-packages (2.22.0)\n",
      "Requirement already satisfied: certifi>=2017.4.17 in c:\\users\\lenovo\\anaconda3\\lib\\site-packages (from requests) (2019.11.28)\n",
      "Requirement already satisfied: idna<2.9,>=2.5 in c:\\users\\lenovo\\anaconda3\\lib\\site-packages (from requests) (2.8)\n",
      "Requirement already satisfied: chardet<3.1.0,>=3.0.2 in c:\\users\\lenovo\\anaconda3\\lib\\site-packages (from requests) (3.0.4)\n",
      "Requirement already satisfied: urllib3!=1.25.0,!=1.25.1,<1.26,>=1.21.1 in c:\\users\\lenovo\\anaconda3\\lib\\site-packages (from requests) (1.25.8)\n",
      "Note: you may need to restart the kernel to use updated packages.\n"
     ]
    }
   ],
   "source": [
    "pip install requests"
   ]
  },
  {
   "cell_type": "code",
   "execution_count": 44,
   "metadata": {},
   "outputs": [
    {
     "name": "stdout",
     "output_type": "stream",
     "text": [
      "Package                            Version            \n",
      "---------------------------------- -------------------\n",
      "alabaster                          0.7.12             \n",
      "anaconda-client                    1.7.2              \n",
      "anaconda-navigator                 1.9.12             \n",
      "anaconda-project                   0.8.3              \n",
      "anfis                              0.3.1              \n",
      "argh                               0.26.2             \n",
      "asn1crypto                         1.3.0              \n",
      "astroid                            2.3.3              \n",
      "astropy                            4.0                \n",
      "atomicwrites                       1.3.0              \n",
      "attrs                              19.3.0             \n",
      "autopep8                           1.4.4              \n",
      "Babel                              2.8.0              \n",
      "backcall                           0.1.0              \n",
      "backports.functools-lru-cache      1.6.1              \n",
      "backports.shutil-get-terminal-size 1.0.0              \n",
      "backports.tempfile                 1.0                \n",
      "backports.weakref                  1.0.post1          \n",
      "bcrypt                             3.1.7              \n",
      "beautifulsoup4                     4.8.2              \n",
      "bitarray                           1.2.1              \n",
      "bkcharts                           0.2                \n",
      "bleach                             3.1.0              \n",
      "bokeh                              1.4.0              \n",
      "boto                               2.49.0             \n",
      "Bottleneck                         1.3.2              \n",
      "certifi                            2019.11.28         \n",
      "cffi                               1.14.0             \n",
      "chardet                            3.0.4              \n",
      "Click                              7.0                \n",
      "cloudpickle                        1.3.0              \n",
      "clyent                             1.2.2              \n",
      "colorama                           0.4.3              \n",
      "comtypes                           1.1.7              \n",
      "conda                              4.8.2              \n",
      "conda-build                        3.18.11            \n",
      "conda-package-handling             1.6.0              \n",
      "conda-verify                       3.4.2              \n",
      "contextlib2                        0.6.0.post1        \n",
      "cryptography                       2.8                \n",
      "cycler                             0.10.0             \n",
      "Cython                             0.29.15            \n",
      "cytoolz                            0.10.1             \n",
      "dask                               2.11.0             \n",
      "decorator                          4.4.1              \n",
      "defusedxml                         0.6.0              \n",
      "diff-match-patch                   20181111           \n",
      "distributed                        2.11.0             \n",
      "docutils                           0.16               \n",
      "entrypoints                        0.3                \n",
      "et-xmlfile                         1.0.1              \n",
      "fastcache                          1.1.0              \n",
      "filelock                           3.0.12             \n",
      "flake8                             3.7.9              \n",
      "Flask                              1.1.1              \n",
      "fsspec                             0.6.2              \n",
      "future                             0.18.2             \n",
      "gevent                             1.4.0              \n",
      "glob2                              0.7                \n",
      "greenlet                           0.4.15             \n",
      "h5py                               2.10.0             \n",
      "HeapDict                           1.0.1              \n",
      "html5lib                           1.0.1              \n",
      "hypothesis                         5.5.4              \n",
      "idna                               2.8                \n",
      "imageio                            2.6.1              \n",
      "imagesize                          1.2.0              \n",
      "importlib-metadata                 1.5.0              \n",
      "intervaltree                       3.0.2              \n",
      "ipykernel                          5.1.4              \n",
      "ipython                            7.12.0             \n",
      "ipython-genutils                   0.2.0              \n",
      "ipywidgets                         7.5.1              \n",
      "isodate                            0.6.0              \n",
      "isort                              4.3.21             \n",
      "itsdangerous                       1.1.0              \n",
      "jdcal                              1.4.1              \n",
      "jedi                               0.14.1             \n",
      "Jinja2                             2.11.1             \n",
      "joblib                             0.14.1             \n",
      "json5                              0.9.1              \n",
      "jsonschema                         3.2.0              \n",
      "jupyter                            1.0.0              \n",
      "jupyter-client                     5.3.4              \n",
      "jupyter-console                    6.1.0              \n",
      "jupyter-core                       4.6.1              \n",
      "jupyterlab                         1.2.6              \n",
      "jupyterlab-server                  1.0.6              \n",
      "keyring                            21.1.0             \n",
      "kiwisolver                         1.1.0              \n",
      "lazy-object-proxy                  1.4.3              \n",
      "libarchive-c                       2.8                \n",
      "llvmlite                           0.31.0             \n",
      "locket                             0.2.0              \n",
      "lxml                               4.5.0              \n",
      "MarkupSafe                         1.1.1              \n",
      "matplotlib                         3.1.3              \n",
      "mccabe                             0.6.1              \n",
      "menuinst                           1.4.16             \n",
      "mistune                            0.8.4              \n",
      "mkl-fft                            1.0.15             \n",
      "mkl-random                         1.1.0              \n",
      "mkl-service                        2.3.0              \n",
      "mock                               4.0.1              \n",
      "more-itertools                     8.2.0              \n",
      "mpmath                             1.1.0              \n",
      "msgpack                            0.6.1              \n",
      "multipledispatch                   0.6.0              \n",
      "navigator-updater                  0.2.1              \n",
      "nbconvert                          5.6.1              \n",
      "nbformat                           5.0.4              \n",
      "networkx                           2.4                \n",
      "nltk                               3.4.5              \n",
      "nose                               1.3.7              \n",
      "notebook                           6.0.3              \n",
      "numba                              0.48.0             \n",
      "numexpr                            2.7.1              \n",
      "numpy                              1.18.1             \n",
      "numpydoc                           0.9.2              \n",
      "olefile                            0.46               \n",
      "openpyxl                           3.0.3              \n",
      "Owlready2                          0.24               \n",
      "packaging                          20.1               \n",
      "pandas                             1.0.1              \n",
      "pandocfilters                      1.4.2              \n",
      "paramiko                           2.7.1              \n",
      "parso                              0.5.2              \n",
      "partd                              1.1.0              \n",
      "path                               13.1.0             \n",
      "pathlib2                           2.3.5              \n",
      "pathtools                          0.1.2              \n",
      "patsy                              0.5.1              \n",
      "pep8                               1.7.1              \n",
      "pexpect                            4.8.0              \n",
      "pickleshare                        0.7.5              \n",
      "Pillow                             7.0.0              \n",
      "pip                                20.0.2             \n",
      "pkginfo                            1.5.0.1            \n",
      "pluggy                             0.13.1             \n",
      "ply                                3.11               \n",
      "prometheus-client                  0.7.1              \n",
      "prompt-toolkit                     3.0.3              \n",
      "psutil                             5.6.7              \n",
      "py                                 1.8.1              \n",
      "py4j                               0.10.9             \n",
      "pycodestyle                        2.5.0              \n",
      "pycosat                            0.6.3              \n",
      "pycparser                          2.19               \n",
      "pycrypto                           2.6.1              \n",
      "pycurl                             7.43.0.5           \n",
      "pydocstyle                         4.0.1              \n",
      "pyflakes                           2.1.1              \n",
      "Pygments                           2.5.2              \n",
      "pylint                             2.4.4              \n",
      "PyNaCl                             1.3.0              \n",
      "pyodbc                             4.0.0-unsupported  \n",
      "pyOpenSSL                          19.1.0             \n",
      "pyparsing                          2.4.6              \n",
      "pyreadline                         2.1                \n",
      "pyrsistent                         0.15.7             \n",
      "PySocks                            1.7.1              \n",
      "pyspark                            3.0.0              \n",
      "pytest                             5.3.5              \n",
      "pytest-arraydiff                   0.3                \n",
      "pytest-astropy                     0.8.0              \n",
      "pytest-astropy-header              0.1.2              \n",
      "pytest-doctestplus                 0.5.0              \n",
      "pytest-openfiles                   0.4.0              \n",
      "pytest-remotedata                  0.3.2              \n",
      "python-dateutil                    2.8.1              \n",
      "python-jsonrpc-server              0.3.4              \n",
      "python-language-server             0.31.7             \n",
      "pytz                               2019.3             \n",
      "PyWavelets                         1.1.1              \n",
      "pywin32                            227                \n",
      "pywin32-ctypes                     0.2.0              \n",
      "pywinpty                           0.5.7              \n",
      "PyYAML                             5.3                \n",
      "pyzmq                              18.1.1             \n",
      "QDarkStyle                         2.8                \n",
      "QtAwesome                          0.6.1              \n",
      "qtconsole                          4.6.0              \n",
      "QtPy                               1.9.0              \n",
      "rdflib                             5.0.0              \n",
      "requests                           2.22.0             \n",
      "rope                               0.16.0             \n",
      "Rtree                              0.9.3              \n",
      "ruamel-yaml                        0.15.87            \n",
      "scikit-fuzzy                       0.4.2              \n",
      "scikit-image                       0.16.2             \n",
      "scikit-learn                       0.22.1             \n",
      "scipy                              1.4.1              \n",
      "seaborn                            0.10.0             \n",
      "Send2Trash                         1.5.0              \n",
      "setuptools                         45.2.0.post20200210\n",
      "simplegeneric                      0.8.1              \n",
      "singledispatch                     3.4.0.3            \n",
      "six                                1.14.0             \n",
      "snowballstemmer                    2.0.0              \n",
      "sortedcollections                  1.1.2              \n",
      "sortedcontainers                   2.1.0              \n",
      "soupsieve                          1.9.5              \n",
      "Sphinx                             2.4.0              \n",
      "sphinxcontrib-applehelp            1.0.1              \n",
      "sphinxcontrib-devhelp              1.0.1              \n",
      "sphinxcontrib-htmlhelp             1.0.2              \n",
      "sphinxcontrib-jsmath               1.0.1              \n",
      "sphinxcontrib-qthelp               1.0.2              \n",
      "sphinxcontrib-serializinghtml      1.1.3              \n",
      "sphinxcontrib-websupport           1.2.0              \n",
      "spyder                             4.0.1              \n",
      "spyder-kernels                     1.8.1              \n",
      "SQLAlchemy                         1.3.13             \n",
      "statsmodels                        0.11.0             \n",
      "sympy                              1.5.1              \n",
      "tables                             3.6.1              \n",
      "tblib                              1.6.0              \n",
      "terminado                          0.8.3              \n",
      "testpath                           0.4.4              \n",
      "toolz                              0.10.0             \n",
      "tornado                            6.0.3              \n",
      "tqdm                               4.42.1             \n",
      "traitlets                          4.3.3              \n",
      "ujson                              1.35               \n",
      "unicodecsv                         0.14.1             \n",
      "urllib3                            1.25.8             \n",
      "watchdog                           0.10.2             \n",
      "wcwidth                            0.1.8              \n",
      "webencodings                       0.5.1              \n",
      "Werkzeug                           1.0.0              \n",
      "wheel                              0.34.2             \n",
      "widgetsnbextension                 3.5.1              \n",
      "win-inet-pton                      1.1.0              \n",
      "win-unicode-console                0.5                \n",
      "wincertstore                       0.2                \n",
      "wrapt                              1.11.2             \n",
      "xlrd                               1.2.0              \n",
      "XlsxWriter                         1.2.7              \n",
      "xlwings                            0.17.1             \n",
      "xlwt                               1.3.0              \n",
      "xmltodict                          0.12.0             \n",
      "yapf                               0.28.0             \n",
      "zict                               1.0.0              \n",
      "zipp                               2.2.0              \n",
      "Note: you may need to restart the kernel to use updated packages.\n"
     ]
    }
   ],
   "source": [
    "pip -- list"
   ]
  },
  {
   "cell_type": "code",
   "execution_count": 35,
   "metadata": {},
   "outputs": [
    {
     "name": "stdout",
     "output_type": "stream",
     "text": [
      "Name: requests\n",
      "Version: 2.22.0\n",
      "Summary: Python HTTP for Humans.\n",
      "Home-page: http://python-requests.org\n",
      "Author: Kenneth Reitz\n",
      "Author-email: me@kennethreitz.org\n",
      "License: Apache 2.0\n",
      "Location: c:\\users\\lenovo\\anaconda3\\lib\\site-packages\n",
      "Requires: idna, chardet, certifi, urllib3\n",
      "Required-by: Sphinx, conda, conda-build, anaconda-project, anaconda-client\n",
      "Note: you may need to restart the kernel to use updated packages.\n"
     ]
    }
   ],
   "source": [
    "pip show requests"
   ]
  },
  {
   "cell_type": "code",
   "execution_count": 37,
   "metadata": {},
   "outputs": [
    {
     "name": "stdout",
     "output_type": "stream",
     "text": [
      "<!doctype html><html itemscope=\"\" itemtype=\"http://schema.org/WebPage\" lang=\"id\"><head><meta content=\"text/html; charset=UTF-8\" http-equiv=\"Content-Type\"><meta content=\"/images/branding/googleg/1x/googleg_standard_color_128dp.png\" itemprop=\"image\"><title>Google</title><script nonce=\"40ZnpRXgyxygJiMZRUVS3A==\">(function(){window.google={kEI:'hQFCYbzHJsKFyAPwnb3ABQ',kEXPI:'0,1302536,56873,954,5104,207,4804,2316,383,246,5,1354,5250,1122516,1197786,615,328866,51224,16114,17444,11240,17572,4859,1361,284,9006,3027,4747,12835,4020,978,13226,3849,10622,19046,2776,919,5081,1593,1279,2214,528,149,1103,840,1983,214,4100,3514,606,2023,1777,520,6343,8327,2273,1,953,1989,856,7,4773,826,6754,5097,11624,4144,552,908,2,941,2614,13142,3,346,230,6460,148,13975,4,1528,2304,923,313,1,5225,577,4683,2015,18375,2658,4242,2459,656,30,13628,2305,638,1494,5588,11198,2522,3284,2551,992,3102,17,3121,6,908,3,3541,1,14710,1814,283,38,874,5992,16728,1715,2,3057,12896,4318,1271,743,5853,1576,3,472,4472,2,2,3936,508,2,650,1269,5430,2379,2721,4004,2,539,3,125,3853,1495,4865,524,460,2408,2,5,1664,6073,1933,191,2444,1596,982,3124,551,13,2460,2,1519,3,23,2,1,3,554,794,1264,85,182,631,2303,665,2,534,930,50,2,874,2626,6,334,569,120,137,555,553,2,291,315,27,85,119,196,36,659,1279,36,1526,1345,147,111,1387,2829,1824,40,225,1108,2,290,373,80,102,2,142,593,559,147,111,159,555,8,366,827,233,545,117,859,88,176,57,359,4,547,1012,6,400,1009,1078,5574572,446,73,9,79,44,74,6,1802604,4193459,521,2800696,882,444,1,2,80,1,1796,1,9,2553,1,748,141,795,563,1,4265,1,1,2,1331,4142,2609,155,17,13,72,139,4,2,20,2,169,13,19,46,5,39,96,548,29,2,2,1,2,1,2,2,7,4,1,2,2,2,2,2,2,353,513,186,1,1,158,3,2,2,2,2,2,4,2,3,3,269,349,2,169,2,13,9,3,4,3,50,23654254,299865,2772894,1268457,276,62,3,2414,448,2,463,94,78,406,9,3915,598,264,1188,206,344',kBL:'myGb'};google.sn='webhp';google.kHL='id';})();(function(){\n",
      "var f=this||self;var h,k=[];function l(a){for(var b;a&&(!a.getAttribute||!(b=a.getAttribute(\"eid\")));)a=a.parentNode;return b||h}function m(a){for(var b=null;a&&(!a.getAttribute||!(b=a.getAttribute(\"leid\")));)a=a.parentNode;return b}\n",
      "function n(a,b,c,d,g){var e=\"\";c||-1!==b.search(\"&ei=\")||(e=\"&ei=\"+l(d),-1===b.search(\"&lei=\")&&(d=m(d))&&(e+=\"&lei=\"+d));d=\"\";!c&&f._cshid&&-1===b.search(\"&cshid=\")&&\"slh\"!==a&&(d=\"&cshid=\"+f._cshid);c=c||\"/\"+(g||\"gen_204\")+\"?atyp=i&ct=\"+a+\"&cad=\"+b+e+\"&zx=\"+Date.now()+d;/^http:/i.test(c)&&\"https:\"===window.location.protocol&&(google.ml&&google.ml(Error(\"a\"),!1,{src:c,glmm:1}),c=\"\");return c};h=google.kEI;google.getEI=l;google.getLEI=m;google.ml=function(){return null};google.log=function(a,b,c,d,g){if(c=n(a,b,c,d,g)){a=new Image;var e=k.length;k[e]=a;a.onerror=a.onload=a.onabort=function(){delete k[e]};a.src=c}};google.logUrl=n;}).call(this);(function(){\n",
      "google.y={};google.sy=[];google.x=function(a,b){if(a)var c=a.id;else{do c=Math.random();while(google.y[c])}google.y[c]=[a,b];return!1};google.sx=function(a){google.sy.push(a)};google.lm=[];google.plm=function(a){google.lm.push.apply(google.lm,a)};google.lq=[];google.load=function(a,b,c){google.lq.push([[a],b,c])};google.loadAll=function(a,b){google.lq.push([a,b])};google.bx=!1;google.lx=function(){};}).call(this);google.f={};(function(){\n",
      "document.documentElement.addEventListener(\"submit\",function(b){var a;if(a=b.target){var c=a.getAttribute(\"data-submitfalse\");a=\"1\"===c||\"q\"===c&&!a.elements.q.value?!0:!1}else a=!1;a&&(b.preventDefault(),b.stopPropagation())},!0);document.documentElement.addEventListener(\"click\",function(b){var a;a:{for(a=b.target;a&&a!==document.documentElement;a=a.parentElement)if(\"A\"===a.tagName){a=\"1\"===a.getAttribute(\"data-nohref\");break a}a=!1}a&&b.preventDefault()},!0);}).call(this);</script><style>#gbar,#guser{font-size:13px;padding-top:1px !important;}#gbar{height:22px}#guser{padding-bottom:7px !important;text-align:right}.gbh,.gbd{border-top:1px solid #c9d7f1;font-size:1px}.gbh{height:0;position:absolute;top:24px;width:100%}@media all{.gb1{height:22px;margin-right:.5em;vertical-align:top}#gbar{float:left}}a.gb1,a.gb4{text-decoration:underline !important}a.gb1,a.gb4{color:#00c !important}.gbi .gb4{color:#dd8e27 !important}.gbf .gb4{color:#900 !important}\n",
      "</style><style>body,td,a,p,.h{font-family:arial,sans-serif}body{margin:0;overflow-y:scroll}#gog{padding:3px 8px 0}td{line-height:.8em}.gac_m td{line-height:17px}form{margin-bottom:20px}.h{color:#1558d6}em{font-weight:bold;font-style:normal}.lst{height:25px;width:496px}.gsfi,.lst{font:18px arial,sans-serif}.gsfs{font:17px arial,sans-serif}.ds{display:inline-box;display:inline-block;margin:3px 0 4px;margin-left:4px}input{font-family:inherit}body{background:#fff;color:#000}a{color:#4b11a8;text-decoration:none}a:hover,a:active{text-decoration:underline}.fl a{color:#1558d6}a:visited{color:#4b11a8}.sblc{padding-top:5px}.sblc a{display:block;margin:2px 0;margin-left:13px;font-size:11px}.lsbb{background:#f8f9fa;border:solid 1px;border-color:#dadce0 #70757a #70757a #dadce0;height:30px}.lsbb{display:block}#WqQANb a{display:inline-block;margin:0 12px}.lsb{background:url(/images/nav_logo229.png) 0 -261px repeat-x;border:none;color:#000;cursor:pointer;height:30px;margin:0;outline:0;font:15px arial,sans-serif;vertical-align:top}.lsb:active{background:#dadce0}.lst:focus{outline:none}.tiah{width:458px}</style><script nonce=\"40ZnpRXgyxygJiMZRUVS3A==\">(function(){window.google.erd={sp:'hp',jsr:0,bv:81};\n",
      "var f=this||self;var g,h,k=null!==(g=f.mei)&&void 0!==g?g:1,l=null!==(h=f.sdo)&&void 0!==h?h:!0,n=0,p,q=google.erd,t=q.jsr;google.ml=function(a,b,e,m,d){d=void 0===d?2:d;b&&(p=a&&a.message);if(google.dl)return google.dl(a,d,e),null;if(0>t){window.console&&console.error(a,e);if(-2===t)throw a;b=!1}else b=!a||!a.message||\"Error loading script\"===a.message||n>=k&&!m?!1:!0;if(!b)return null;n++;e=e||{};b=encodeURIComponent;var c=\"/gen_204?atyp=i&ei=\"+b(google.kEI);google.kEXPI&&(c+=\"&jexpid=\"+b(google.kEXPI));c+=\"&srcpg=\"+b(q.sp)+\"&jsr=\"+b(q.jsr)+\"&bver=\"+b(q.bv)+(\"&jsel=\"+d);c+=\"&sn=\"+b(google.sn);for(var r in e)c+=\"&\",c+=b(r),c+=\"=\",c+=b(e[r]);c=c+\"&emsg=\"+b(a.name+\": \"+a.message);c=c+\"&jsst=\"+b(a.stack||\"N/A\");12288<=c.length&&(c=c.substr(0,12288));a=c;m||google.log(0,\"\",a);return a};window.onerror=function(a,b,e,m,d){p!==a&&google.ml(d instanceof Error?d:Error(a),!1,void 0,!1,google.dl?0:2);p=null;l&&n>=k&&(window.onerror=null)};})();</script></head><body bgcolor=\"#fff\"><script nonce=\"40ZnpRXgyxygJiMZRUVS3A==\">(function(){var src='/images/nav_logo229.png';var iesg=false;document.body.onload = function(){window.n && window.n();if (document.images){new Image().src=src;}\n",
      "if (!iesg){document.f&&document.f.q.focus();document.gbqf&&document.gbqf.q.focus();}\n",
      "}\n",
      "})();</script><div id=\"mngb\"><div id=gbar><nobr><b class=gb1>Telusuri</b> <a class=gb1 href=\"https://www.google.co.id/imghp?hl=id&tab=wi\">Gambar</a> <a class=gb1 href=\"https://maps.google.co.id/maps?hl=id&tab=wl\">Maps</a> <a class=gb1 href=\"https://www.youtube.com/?gl=ID&tab=w1\">YouTube</a> <a class=gb1 href=\"https://news.google.com/?tab=wn\">Berita</a> <a class=gb1 href=\"https://mail.google.com/mail/?tab=wm\">Gmail</a> <a class=gb1 href=\"https://drive.google.com/?tab=wo\">Drive</a> <a class=gb1 href=\"https://calendar.google.com/calendar?tab=wc\">Kalender</a> <a class=gb1 style=\"text-decoration:none\" href=\"https://www.google.co.id/intl/id/about/products?tab=wh\"><u>Lainnya</u> &raquo;</a></nobr></div><div id=guser width=100%><nobr><span id=gbn class=gbi></span><span id=gbf class=gbf></span><span id=gbe></span><a href=\"http://www.google.co.id/history/optout?hl=id\" class=gb4>Histori Web</a> | <a  href=\"/preferences?hl=id\" class=gb4>Setelan</a> | <a target=_top id=gb_70 href=\"https://accounts.google.com/ServiceLogin?hl=id&passive=true&continue=https://www.google.com/&ec=GAZAAQ\" class=gb4>Login</a></nobr></div><div class=gbh style=left:0></div><div class=gbh style=right:0></div></div><center><br clear=\"all\" id=\"lgpd\"><div id=\"lga\"><img alt=\"Google\" height=\"92\" src=\"/images/branding/googlelogo/1x/googlelogo_white_background_color_272x92dp.png\" style=\"padding:28px 0 14px\" width=\"272\" id=\"hplogo\"><br><br></div><form action=\"/search\" name=\"f\"><table cellpadding=\"0\" cellspacing=\"0\"><tr valign=\"top\"><td width=\"25%\">&nbsp;</td><td align=\"center\" nowrap=\"\"><input name=\"ie\" value=\"ISO-8859-1\" type=\"hidden\"><input value=\"id\" name=\"hl\" type=\"hidden\"><input name=\"source\" type=\"hidden\" value=\"hp\"><input name=\"biw\" type=\"hidden\"><input name=\"bih\" type=\"hidden\"><div class=\"ds\" style=\"height:32px;margin:4px 0\"><div style=\"position:relative;zoom:1\"><input class=\"lst tiah\" style=\"margin:0;padding:5px 8px 0 6px;vertical-align:top;color:#000;padding-right:38px\" autocomplete=\"off\" value=\"\" title=\"Penelusuran Google\" maxlength=\"2048\" name=\"q\" size=\"57\"><img src=\"/textinputassistant/tia.png\" style=\"position:absolute;cursor:pointer;right:5px;top:4px;z-index:300\" data-script-url=\"/textinputassistant/11/id_tia.js\" id=\"tsuid1\" alt=\"\" height=\"23\" width=\"27\"><script nonce=\"40ZnpRXgyxygJiMZRUVS3A==\">(function(){var id='tsuid1';document.getElementById(id).onclick = function(){var s = document.createElement('script');s.src = this.getAttribute('data-script-url');(document.getElementById('xjsc')||document.body).appendChild(s);};})();</script></div></div><br style=\"line-height:0\"><span class=\"ds\"><span class=\"lsbb\"><input class=\"lsb\" value=\"Penelusuran Google\" name=\"btnG\" type=\"submit\"></span></span><span class=\"ds\"><span class=\"lsbb\"><input class=\"lsb\" id=\"tsuid2\" value=\"Saya Lagi Beruntung\" name=\"btnI\" type=\"submit\"><script nonce=\"40ZnpRXgyxygJiMZRUVS3A==\">(function(){var id='tsuid2';document.getElementById(id).onclick = function(){if (this.form.q.value){this.checked = 1;if (this.form.iflsig)this.form.iflsig.disabled = false;}\n",
      "else top.location='/doodles/';};})();</script><input value=\"ALs-wAMAAAAAYUIPlWnw2xMAFIHJHDuA1P-6-LFJUkfq\" name=\"iflsig\" type=\"hidden\"></span></span></td><td class=\"fl sblc\" align=\"left\" nowrap=\"\" width=\"25%\"><a href=\"/advanced_search?hl=id&amp;authuser=0\">Penelusuran lanjutan</a></td></tr></table><input id=\"gbv\" name=\"gbv\" type=\"hidden\" value=\"1\"><script nonce=\"40ZnpRXgyxygJiMZRUVS3A==\">(function(){\n",
      "var a,b=\"1\";if(document&&document.getElementById)if(\"undefined\"!=typeof XMLHttpRequest)b=\"2\";else if(\"undefined\"!=typeof ActiveXObject){var c,d,e=[\"MSXML2.XMLHTTP.6.0\",\"MSXML2.XMLHTTP.3.0\",\"MSXML2.XMLHTTP\",\"Microsoft.XMLHTTP\"];for(c=0;d=e[c++];)try{new ActiveXObject(d),b=\"2\"}catch(h){}}a=b;if(\"2\"==a&&-1==location.search.indexOf(\"&gbv=2\")){var f=google.gbvu,g=document.getElementById(\"gbv\");g&&(g.value=a);f&&window.setTimeout(function(){location.href=f},0)};}).call(this);</script></form><div id=\"gac_scont\"></div><div style=\"font-size:83%;min-height:3.5em\"><br><div id=\"gws-output-pages-elements-homepage_additional_languages__als\"><style>#gws-output-pages-elements-homepage_additional_languages__als{font-size:small;margin-bottom:24px}#SIvCob{color:#3c4043;display:inline-block;line-height:28px;}#SIvCob a{padding:0 3px;}.H6sW5{display:inline-block;margin:0 2px;white-space:nowrap}.z4hgWe{display:inline-block;margin:0 2px}</style><div id=\"SIvCob\">Google menawarkan:  <a href=\"https://www.google.com/setprefs?sig=0_LCq9aL3ZMnnTrUFcb0xKVu3RxJo%3D&amp;hl=en&amp;source=homepage&amp;sa=X&amp;ved=0ahUKEwj8neXdloHzAhXCAnIKHfBOD1gQ2ZgBCAU\">English</a>    <a href=\"https://www.google.com/setprefs?sig=0_LCq9aL3ZMnnTrUFcb0xKVu3RxJo%3D&amp;hl=jv&amp;source=homepage&amp;sa=X&amp;ved=0ahUKEwj8neXdloHzAhXCAnIKHfBOD1gQ2ZgBCAY\"></a>    <a href=\"https://www.google.com/setprefs?sig=0_LCq9aL3ZMnnTrUFcb0xKVu3RxJo%3D&amp;hl=ban&amp;source=homepage&amp;sa=X&amp;ved=0ahUKEwj8neXdloHzAhXCAnIKHfBOD1gQ2ZgBCAc\">Basa Bali</a>  </div></div></div><span id=\"footer\"><div style=\"font-size:10pt\"><div style=\"margin:19px auto;text-align:center\" id=\"WqQANb\"><a href=\"/intl/id/ads/\">Program Periklanan</a><a href=\"http://www.google.co.id/intl/id/services/\">Solusi Bisnis</a><a href=\"/intl/id/about.html\">Serba-serbi Google</a><a href=\"https://www.google.com/setprefdomain?prefdom=ID&amp;prev=https://www.google.co.id/&amp;sig=K_teqE-AwgfsUDNHSNMmPFbPce3S4%3D\">Google.co.id</a></div></div><p style=\"font-size:8pt;color:#70757a\">&copy; 2021</p></span></center><script nonce=\"40ZnpRXgyxygJiMZRUVS3A==\">(function(){window.google.cdo={height:757,width:1440};(function(){\n",
      "var a=window.innerWidth,b=window.innerHeight;if(!a||!b){var c=window.document,d=\"CSS1Compat\"==c.compatMode?c.documentElement:c.body;a=d.clientWidth;b=d.clientHeight}a&&b&&(a!=google.cdo.width||b!=google.cdo.height)&&google.log(\"\",\"\",\"/client_204?&atyp=i&biw=\"+a+\"&bih=\"+b+\"&ei=\"+google.kEI);}).call(this);})();</script> <script nonce=\"40ZnpRXgyxygJiMZRUVS3A==\">(function(){google.xjs={ck:'',cs:'',excm:[]};})();</script>  <script nonce=\"40ZnpRXgyxygJiMZRUVS3A==\">(function(){var u='/xjs/_/js/k\\x3dxjs.hp.en.lJnEU8vr33E.O/am\\x3dAPgEWA/d\\x3d1/ed\\x3d1/rs\\x3dACT90oGJ5NvvtDtPbnWuyhtuSUv6jWAC6w/m\\x3dsb_he,d';\n",
      "var e=this||self,f=function(a){return a};var g;var l=function(a,b){this.g=b===h?a:\"\"};l.prototype.toString=function(){return this.g+\"\"};var h={};function m(){var a=u;google.lx=function(){n(a);google.lx=function(){}};google.bx||google.lx()}\n",
      "function n(a){google.timers&&google.timers.load&&google.tick&&google.tick(\"load\",\"xjsls\");var b=document;var c=\"SCRIPT\";\"application/xhtml+xml\"===b.contentType&&(c=c.toLowerCase());c=b.createElement(c);if(void 0===g){b=null;var k=e.trustedTypes;if(k&&k.createPolicy){try{b=k.createPolicy(\"goog#html\",{createHTML:f,createScript:f,createScriptURL:f})}catch(p){e.console&&e.console.error(p.message)}g=b}else g=b}a=(b=g)?b.createScriptURL(a):a;a=new l(a,h);c.src=a instanceof l&&a.constructor===l?a.g:\"type_error:TrustedResourceUrl\";var d;a=(c.ownerDocument&&c.ownerDocument.defaultView||window).document;(d=(b=null===(d=a.querySelector)||void 0===d?void 0:d.call(a,\"script[nonce]\"))?b.nonce||b.getAttribute(\"nonce\")||\"\":\"\")&&c.setAttribute(\"nonce\",d);document.body.appendChild(c);google.psa=!0};setTimeout(function(){m()},0);})();(function(){window.google.xjsu='/xjs/_/js/k\\x3dxjs.hp.en.lJnEU8vr33E.O/am\\x3dAPgEWA/d\\x3d1/ed\\x3d1/rs\\x3dACT90oGJ5NvvtDtPbnWuyhtuSUv6jWAC6w/m\\x3dsb_he,d';})();function _DumpException(e){throw e;}\n",
      "function _F_installCss(c){}\n",
      "(function(){google.jl={attn:false,blt:'none',chnk:0,dw:false,emtn:0,end:0,ine:false,lls:'default',pdt:0,rep:0,sif:true,snet:true,strt:0,ubm:false,uwp:true};})();(function(){var pmc='{\\x22d\\x22:{},\\x22sb_he\\x22:{\\x22agen\\x22:true,\\x22cgen\\x22:true,\\x22client\\x22:\\x22heirloom-hp\\x22,\\x22dh\\x22:true,\\x22dhqt\\x22:true,\\x22ds\\x22:\\x22\\x22,\\x22ffql\\x22:\\x22id\\x22,\\x22fl\\x22:true,\\x22host\\x22:\\x22google.com\\x22,\\x22isbh\\x22:28,\\x22jsonp\\x22:true,\\x22msgs\\x22:{\\x22cibl\\x22:\\x22Hapus Penelusuran\\x22,\\x22dym\\x22:\\x22Mungkin maksud Anda adalah:\\x22,\\x22lcky\\x22:\\x22Saya Lagi Beruntung\\x22,\\x22lml\\x22:\\x22Pelajari lebih lanjut\\x22,\\x22oskt\\x22:\\x22Fitur input\\x22,\\x22psrc\\x22:\\x22Penelusuran ini telah dihapus dari \\\\u003Ca href\\x3d\\\\\\x22/history\\\\\\x22\\\\u003EHistori Web\\\\u003C/a\\\\u003E Anda\\x22,\\x22psrl\\x22:\\x22Hapus\\x22,\\x22sbit\\x22:\\x22Telusuri gambar\\x22,\\x22srch\\x22:\\x22Penelusuran Google\\x22},\\x22ovr\\x22:{},\\x22pq\\x22:\\x22\\x22,\\x22refpd\\x22:true,\\x22rfs\\x22:[],\\x22sbas\\x22:\\x220 3px 8px 0 rgba(0,0,0,0.2),0 0 0 1px rgba(0,0,0,0.08)\\x22,\\x22sbpl\\x22:16,\\x22sbpr\\x22:16,\\x22scd\\x22:10,\\x22stok\\x22:\\x22kn7thBMw5Cg61K7IJ1lTxifM9KE\\x22,\\x22uhde\\x22:false}}';google.pmc=JSON.parse(pmc);})();</script>        </body></html>\n"
     ]
    }
   ],
   "source": [
    "import requests\n",
    "response = requests.get('https://www.google.com')\n",
    "print(response.text)"
   ]
  },
  {
   "cell_type": "code",
   "execution_count": 38,
   "metadata": {},
   "outputs": [
    {
     "name": "stdout",
     "output_type": "stream",
     "text": [
      "Note: you may need to restart the kernel to use updated packages.\n"
     ]
    },
    {
     "name": "stderr",
     "output_type": "stream",
     "text": [
      "ERROR: Exception:\n",
      "Traceback (most recent call last):\n",
      "  File \"C:\\Users\\LENOVO\\anaconda3\\lib\\site-packages\\pip\\_internal\\cli\\base_command.py\", line 186, in _main\n",
      "    status = self.run(options, args)\n",
      "  File \"C:\\Users\\LENOVO\\anaconda3\\lib\\site-packages\\pip\\_internal\\commands\\search.py\", line 52, in run\n",
      "    pypi_hits = self.search(query, options)\n",
      "  File \"C:\\Users\\LENOVO\\anaconda3\\lib\\site-packages\\pip\\_internal\\commands\\search.py\", line 71, in search\n",
      "    hits = pypi.search({'name': query, 'summary': query}, 'or')\n",
      "  File \"C:\\Users\\LENOVO\\anaconda3\\lib\\xmlrpc\\client.py\", line 1112, in __call__\n",
      "    return self.__send(self.__name, args)\n",
      "  File \"C:\\Users\\LENOVO\\anaconda3\\lib\\xmlrpc\\client.py\", line 1452, in __request\n",
      "    verbose=self.__verbose\n",
      "  File \"C:\\Users\\LENOVO\\anaconda3\\lib\\site-packages\\pip\\_internal\\network\\xmlrpc.py\", line 38, in request\n",
      "    return self.parse_response(response.raw)\n",
      "  File \"C:\\Users\\LENOVO\\anaconda3\\lib\\xmlrpc\\client.py\", line 1342, in parse_response\n",
      "    return u.close()\n",
      "  File \"C:\\Users\\LENOVO\\anaconda3\\lib\\xmlrpc\\client.py\", line 656, in close\n",
      "    raise Fault(**self._stack[0])\n",
      "xmlrpc.client.Fault: <Fault -32500: \"RuntimeError: PyPI's XMLRPC API is currently disabled due to unmanageable load and will be deprecated in the near future. See https://status.python.org/ for more information.\">\n"
     ]
    }
   ],
   "source": [
    "pip search requests"
   ]
  },
  {
   "cell_type": "code",
   "execution_count": null,
   "metadata": {},
   "outputs": [],
   "source": [
    "pip uninstall requests"
   ]
  },
  {
   "cell_type": "code",
   "execution_count": null,
   "metadata": {},
   "outputs": [],
   "source": []
  }
 ],
 "metadata": {
  "kernelspec": {
   "display_name": "Python 3",
   "language": "python",
   "name": "python3"
  },
  "language_info": {
   "codemirror_mode": {
    "name": "ipython",
    "version": 3
   },
   "file_extension": ".py",
   "mimetype": "text/x-python",
   "name": "python",
   "nbconvert_exporter": "python",
   "pygments_lexer": "ipython3",
   "version": "3.7.6"
  }
 },
 "nbformat": 4,
 "nbformat_minor": 4
}
