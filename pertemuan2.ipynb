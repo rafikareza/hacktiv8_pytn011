{
 "cells": [
  {
   "cell_type": "markdown",
   "metadata": {},
   "source": [
    "# Conditional Statement"
   ]
  },
  {
   "cell_type": "code",
   "execution_count": 1,
   "metadata": {},
   "outputs": [],
   "source": [
    "umur_a = 15\n",
    "\n",
    "if umur_a >17:\n",
    "    print (\"a lebih dari 17 tahun\") #hanya jalan jika pertanyaanya true"
   ]
  },
  {
   "cell_type": "markdown",
   "metadata": {},
   "source": [
    "## truthy vs falsy\n",
    "semua\n",
    "falsy adalah:\n",
    "- "
   ]
  },
  {
   "cell_type": "code",
   "execution_count": 3,
   "metadata": {},
   "outputs": [
    {
     "name": "stdout",
     "output_type": "stream",
     "text": [
      "x dianggap True\n",
      "y dianggap True\n"
     ]
    }
   ],
   "source": [
    "x = 12\n",
    "y = 12\n",
    "\n",
    "if x < y:\n",
    "    print(\"iya x < y\")\n",
    "    \n",
    "if y < x:\n",
    "    print(\"y lebih kecil dari x\")\n",
    "    \n",
    "if x:\n",
    "    print(\"x dianggap True\")\n",
    "    \n",
    "if y:\n",
    "    print(\"y dianggap True\")"
   ]
  },
  {
   "cell_type": "code",
   "execution_count": 9,
   "metadata": {},
   "outputs": [
    {
     "name": "stdout",
     "output_type": "stream",
     "text": [
      "ada Hack di Hactiv8\n",
      "ada a di b\n"
     ]
    }
   ],
   "source": [
    "a = 'aul'\n",
    "b = 'grault'\n",
    "\n",
    "if 'Hack' in 'Hacktiv8':\n",
    "    print(\"ada Hack di Hactiv8\")\n",
    "    \n",
    "if a in b:\n",
    "    print('ada a di b')\n",
    "    \n",
    "if b in a:\n",
    "    print('ada b di a')\n",
    "    "
   ]
  },
  {
   "cell_type": "code",
   "execution_count": 10,
   "metadata": {},
   "outputs": [
    {
     "name": "stdout",
     "output_type": "stream",
     "text": [
      "ada 100 di list ini\n",
      "ada seratus di list ini\n"
     ]
    }
   ],
   "source": [
    "if 100 in [100,50,90]:\n",
    "    print('ada 100 di list ini')\n",
    "    \n",
    "if 'seratus' in ['seratus', 'lima puluh', 'sembilan puluh']:\n",
    "    print('ada seratus di list ini')"
   ]
  },
  {
   "cell_type": "code",
   "execution_count": 11,
   "metadata": {},
   "outputs": [
    {
     "name": "stdout",
     "output_type": "stream",
     "text": [
      "keluar rumah\n",
      "pergi e indomaret\n",
      "beli snack\n",
      "akhir dari code\n"
     ]
    }
   ],
   "source": [
    "cuaca_cerah = True\n",
    "\n",
    "if cuaca_cerah:\n",
    "    print(\"keluar rumah\")\n",
    "    print(\"pergi e indomaret\")\n",
    "    print(\"beli snack\")\n",
    "print(\"akhir dari code\") # indentasi berbeda, sudah bukan if diatas"
   ]
  },
  {
   "cell_type": "code",
   "execution_count": 12,
   "metadata": {},
   "outputs": [
    {
     "ename": "IndentationError",
     "evalue": "unexpected indent (<ipython-input-12-6bf6a3cf42c2>, line 7)",
     "output_type": "error",
     "traceback": [
      "\u001b[1;36m  File \u001b[1;32m\"<ipython-input-12-6bf6a3cf42c2>\"\u001b[1;36m, line \u001b[1;32m7\u001b[0m\n\u001b[1;33m    print(\"beli snack\")# statement tanpa kepala\u001b[0m\n\u001b[1;37m    ^\u001b[0m\n\u001b[1;31mIndentationError\u001b[0m\u001b[1;31m:\u001b[0m unexpected indent\n"
     ]
    }
   ],
   "source": [
    "# contoh error indentasi\n",
    "cuaca_cerah = False\n",
    "\n",
    "if cuaca_cerah:\n",
    "    print(\"keluar rumah\")\n",
    "print(\"pergi e indomaret\")\n",
    "    print(\"beli snack\")# statement tanpa kepala\n",
    "    print(\"akhir dari code\") # indentasi berbeda, sudah bukan if diatas"
   ]
  },
  {
   "cell_type": "code",
   "execution_count": 17,
   "metadata": {},
   "outputs": [
    {
     "name": "stdout",
     "output_type": "stream",
     "text": [
      "blum cukup umur\n",
      "selesai pengecekan\n"
     ]
    }
   ],
   "source": [
    "#nasted if, ada if dalam if\n",
    "# ana umur 17, belum vaksin, tidak punya penyakit\n",
    "umur = 15\n",
    "sudah_vaksin = True\n",
    "punya_sakit = True \n",
    "\n",
    "if umur >=17:\n",
    "    if sudah_vaksin:\n",
    "        print(\"cek untuk vaksin ke2\")\n",
    "    else:\n",
    "        print(\"cek untuk vaksin pertama\")\n",
    "        \n",
    "    if punya_sakit:\n",
    "        print(\"tidak boleh vaksin karena sedang sakit\")\n",
    "    else:\n",
    "        print(\"boleh vaksin\")\n",
    "        \n",
    "else:\n",
    "    print(\"blum cukup umur\")\n",
    "\n",
    "print(\"selesai pengecekan\")"
   ]
  },
  {
   "cell_type": "code",
   "execution_count": 20,
   "metadata": {},
   "outputs": [
    {
     "name": "stdout",
     "output_type": "stream",
     "text": [
      "salah input nilai\n"
     ]
    }
   ],
   "source": [
    "nilai = 1000\n",
    "\n",
    "if nilai > 100:\n",
    "    print(\"salah input nilai\")\n",
    "elif nilai > 80:\n",
    "    print(\"dapat A\")\n",
    "elif nilai > 60:\n",
    "    print(\"dapat B\")\n",
    "elif nilai > 40:\n",
    "    print(\"dapat C\")\n",
    "elif nilai > 20:\n",
    "    print(\"dapat D\")\n",
    "else:\n",
    "    print(\"dapat F\")"
   ]
  },
  {
   "cell_type": "code",
   "execution_count": 21,
   "metadata": {},
   "outputs": [
    {
     "name": "stdout",
     "output_type": "stream",
     "text": [
      "halo Xander\n"
     ]
    }
   ],
   "source": [
    "nama = \"Xander\"\n",
    "print(\"halo \" + nama)"
   ]
  },
  {
   "cell_type": "markdown",
   "metadata": {},
   "source": [
    "## One Line"
   ]
  },
  {
   "cell_type": "code",
   "execution_count": 27,
   "metadata": {},
   "outputs": [
    {
     "name": "stdout",
     "output_type": "stream",
     "text": [
      "iya, x < y\n",
      "iya, x < y\n",
      "x\n",
      "lebih kecil\n",
      "dari y\n",
      "x\n",
      "lebih kecil\n",
      "dari y\n"
     ]
    }
   ],
   "source": [
    "x = 10\n",
    "y = 12\n",
    "\n",
    "if x < y:\n",
    "    print(\"iya, x < y\")\n",
    "    \n",
    "if x < y: print(\"iya, x < y\")\n",
    "    \n",
    "if x < y:\n",
    "    print(\"x\")\n",
    "    print(\"lebih kecil\")\n",
    "    print(\"dari y\")\n",
    "    \n",
    "if x < y: print(\"x\"); print(\"lebih kecil\");print(\"dari y\") #not recomended"
   ]
  },
  {
   "cell_type": "code",
   "execution_count": 29,
   "metadata": {},
   "outputs": [
    {
     "name": "stdout",
     "output_type": "stream",
     "text": [
      "x\n",
      "lebih kecil\n",
      "dari y\n"
     ]
    }
   ],
   "source": [
    "if x < y:\n",
    "    print(\"x\")\n",
    "    print(\"lebih kecil\")\n",
    "    print(\"dari y\")\n",
    "    \n",
    "elif x > y:\n",
    "    print(\"x\")\n",
    "    print(\"lebih kecil\")\n",
    "    print(\"dari y\")\n",
    "\n",
    "else:\n",
    "    print(\"x\")\n",
    "    print(\"lebih kecil\")\n",
    "    print(\"dari y\")"
   ]
  },
  {
   "cell_type": "markdown",
   "metadata": {},
   "source": [
    "### ternery operator\n",
    "\n",
    "kalau true> if pertanyaan> else kalau false>"
   ]
  },
  {
   "cell_type": "code",
   "execution_count": 30,
   "metadata": {},
   "outputs": [
    {
     "name": "stdout",
     "output_type": "stream",
     "text": [
      "lebih besar\n"
     ]
    }
   ],
   "source": [
    "x = 20\n",
    "y = 15\n",
    "print(\"x lebih kecil dari y\") if x < y else print(\"lebih besar\")"
   ]
  },
  {
   "cell_type": "code",
   "execution_count": 33,
   "metadata": {},
   "outputs": [
    {
     "name": "stdout",
     "output_type": "stream",
     "text": [
      "yang lebih besar adalah y\n"
     ]
    }
   ],
   "source": [
    "x = 10\n",
    "y = 15\n",
    "print(\"yang lebih besar adalah\",\"x\" if x > y else \"y\")"
   ]
  },
  {
   "cell_type": "markdown",
   "metadata": {},
   "source": [
    "## pass stantement"
   ]
  },
  {
   "cell_type": "code",
   "execution_count": 35,
   "metadata": {},
   "outputs": [],
   "source": [
    "if x > y:\n",
    "    pass\n",
    "elif x == y:\n",
    "    pass\n",
    "else:\n",
    "    pass"
   ]
  },
  {
   "cell_type": "markdown",
   "metadata": {},
   "source": [
    "# While Loop\n",
    "\n",
    "selama kondisi masih True, statement diulang terus"
   ]
  },
  {
   "cell_type": "code",
   "execution_count": 36,
   "metadata": {},
   "outputs": [
    {
     "name": "stdout",
     "output_type": "stream",
     "text": [
      "jemur baju\n"
     ]
    }
   ],
   "source": [
    "cuaca_cerah = True\n",
    "\n",
    "if cuaca_cerah:\n",
    "    print(\"jemur baju\")"
   ]
  },
  {
   "cell_type": "code",
   "execution_count": 38,
   "metadata": {},
   "outputs": [
    {
     "name": "stdout",
     "output_type": "stream",
     "text": [
      "jemur baju\n"
     ]
    }
   ],
   "source": [
    "while cuaca_cerah:\n",
    "    print(\"jemur baju\")\n",
    "    cuaca_cerah = False"
   ]
  },
  {
   "cell_type": "code",
   "execution_count": 40,
   "metadata": {},
   "outputs": [
    {
     "name": "stdout",
     "output_type": "stream",
     "text": [
      "ikut kelas 0\n",
      "ikut kelas 1\n",
      "ikut kelas 2\n",
      "ikut kelas 3\n",
      "ikut kelas 4\n",
      "ikut kelas 5\n",
      "ikut kelas 6\n",
      "ikut kelas 7\n",
      "ikut kelas 8\n",
      "ikut kelas 9\n",
      "ikut kelas 10\n",
      "ikut kelas 11\n",
      "ikut kelas 12\n",
      "ikut kelas 13\n",
      "ikut kelas 14\n",
      "ikut kelas 15\n",
      "di luar while loop\n"
     ]
    }
   ],
   "source": [
    "counter = 0\n",
    "\n",
    "while counter < 16:\n",
    "    print(\"ikut kelas\", counter)\n",
    "    #counter = counter + 1\n",
    "    counter += 1\n",
    "    \n",
    "print(\"di luar while loop\")"
   ]
  },
  {
   "cell_type": "markdown",
   "metadata": {},
   "source": [
    "## break and Continue\n",
    "### juga else"
   ]
  },
  {
   "cell_type": "code",
   "execution_count": 44,
   "metadata": {},
   "outputs": [
    {
     "name": "stdout",
     "output_type": "stream",
     "text": [
      "ikut kelas 1\n",
      "ikut kelas 2\n",
      "ikut kelas 3\n",
      "ikut kelas 4\n",
      "ikut kelas 5\n",
      "ikut kelas 6\n",
      "ikut kelas 7\n",
      "seesai\n"
     ]
    }
   ],
   "source": [
    "counter = 0 \n",
    "cuti = 8\n",
    "\n",
    "while counter < 16:\n",
    "    counter += 1\n",
    "    if counter == cuti:\n",
    "        break;\n",
    "    print(\"ikut kelas\", counter)\n",
    "print(\"seesai\")"
   ]
  },
  {
   "cell_type": "code",
   "execution_count": 48,
   "metadata": {},
   "outputs": [
    {
     "name": "stdout",
     "output_type": "stream",
     "text": [
      "ikut kelas 1\n",
      "ikut kelas 2\n",
      "ikut kelas 3\n",
      "ikut kelas 4\n",
      "ikut kelas 5\n",
      "ikut kelas 6\n",
      "ikut kelas 7\n",
      "ikut kelas 9\n",
      "ikut kelas 10\n",
      "ikut kelas 11\n",
      "ikut kelas 12\n",
      "ikut kelas 13\n",
      "ikut kelas 14\n",
      "ikut kelas 15\n",
      "ikut kelas 16\n",
      "tidak ikut kelas lagi\n",
      "selesai\n"
     ]
    }
   ],
   "source": [
    "counter = 0\n",
    "skip = 8\n",
    "\n",
    "while counter < 16:\n",
    "    counter += 1\n",
    "    if counter == skip:\n",
    "        continue; #skip 1 kelas saja\n",
    "    print(\"ikut kelas\", counter)\n",
    "else:\n",
    "    print(\"tidak ikut kelas lagi\")\n",
    "    \n",
    "print(\"selesai\")"
   ]
  },
  {
   "cell_type": "markdown",
   "metadata": {},
   "source": [
    "## nested while loop"
   ]
  },
  {
   "cell_type": "code",
   "execution_count": 50,
   "metadata": {},
   "outputs": [
    {
     "name": "stdout",
     "output_type": "stream",
     "text": [
      "0 counter < a 5\n",
      "1 c < b 3\n",
      "2 c < b 3\n",
      "1 counter < a 5\n",
      "1 c < b 3\n",
      "2 c < b 3\n",
      "2 counter < a 5\n",
      "1 c < b 3\n",
      "2 c < b 3\n",
      "3 counter < a 5\n",
      "1 c < b 3\n",
      "2 c < b 3\n",
      "4 counter < a 5\n",
      "1 c < b 3\n",
      "2 c < b 3\n"
     ]
    }
   ],
   "source": [
    "a = 5\n",
    "b = 3\n",
    "\n",
    "counter = 0\n",
    "while counter < a:\n",
    "    print(counter,'counter < a', a)\n",
    "    \n",
    "    c = 1\n",
    "    while c < b:\n",
    "        print(c, 'c < b', b)\n",
    "        c += 1\n",
    "    \n",
    "    counter += 1"
   ]
  },
  {
   "cell_type": "code",
   "execution_count": 52,
   "metadata": {},
   "outputs": [
    {
     "name": "stdout",
     "output_type": "stream",
     "text": [
      "0 counter < a 5\n",
      "1 counter < a 5\n",
      "2 counter < a 5\n",
      "3 counter < a 5\n",
      "4 counter < a 5\n"
     ]
    }
   ],
   "source": [
    "a = 5\n",
    "b = 3\n",
    "\n",
    "counter = 0\n",
    "while counter < a:\n",
    "    print(counter,'counter < a', a)\n",
    "    \n",
    "    c = 1\n",
    "    while c < b:\n",
    "        break; #break ini hanya mengefek while ini saja, while yang luar ga kena\n",
    "        print(c, 'c < b', b)\n",
    "        c += 1\n",
    "    \n",
    "    counter += 1"
   ]
  },
  {
   "cell_type": "markdown",
   "metadata": {},
   "source": [
    "## one line while loop"
   ]
  },
  {
   "cell_type": "code",
   "execution_count": 53,
   "metadata": {},
   "outputs": [
    {
     "name": "stdout",
     "output_type": "stream",
     "text": [
      "10\n",
      "9\n",
      "8\n",
      "7\n",
      "6\n",
      "5\n",
      "4\n",
      "3\n",
      "2\n",
      "1\n",
      "0\n"
     ]
    }
   ],
   "source": [
    "n = 10\n",
    "while n >= 0: print(n); n -= 1;"
   ]
  },
  {
   "cell_type": "code",
   "execution_count": 57,
   "metadata": {},
   "outputs": [
    {
     "name": "stdout",
     "output_type": "stream",
     "text": [
      "10\n",
      "9\n",
      "8\n",
      "7\n",
      "6\n",
      "5\n",
      "4\n",
      "3\n",
      "2\n",
      "1\n",
      "0\n"
     ]
    }
   ],
   "source": [
    "n = 10\n",
    "while n >= 0: \n",
    "    print(n) \n",
    "    n -= 1"
   ]
  },
  {
   "cell_type": "markdown",
   "metadata": {},
   "source": [
    "# For Loop (collection based)\n",
    "\n",
    "for item in collection"
   ]
  },
  {
   "cell_type": "code",
   "execution_count": 58,
   "metadata": {},
   "outputs": [
    {
     "name": "stdout",
     "output_type": "stream",
     "text": [
      "50\n",
      "90\n",
      "70\n",
      "54\n",
      "65\n"
     ]
    }
   ],
   "source": [
    "nilai = [ 50,90,70,54,65]\n",
    "for n in nilai:\n",
    "    print(n)"
   ]
  },
  {
   "cell_type": "code",
   "execution_count": 61,
   "metadata": {},
   "outputs": [
    {
     "name": "stdout",
     "output_type": "stream",
     "text": [
      "nama\n",
      "berat (g)\n",
      "warna\n"
     ]
    }
   ],
   "source": [
    "buah = {\n",
    "    'nama': 'apel',\n",
    "    'berat (g)': 200,\n",
    "    'warna': 'merah'\n",
    "}\n",
    "for deskripsi_buah in buah:\n",
    "    print(deskripsi_buah)"
   ]
  },
  {
   "cell_type": "code",
   "execution_count": 63,
   "metadata": {},
   "outputs": [
    {
     "data": {
      "text/plain": [
       "dict_items([('nama', 'apel'), ('berat (g)', 200), ('warna', 'merah')])"
      ]
     },
     "execution_count": 63,
     "metadata": {},
     "output_type": "execute_result"
    }
   ],
   "source": [
    "buah.items()"
   ]
  },
  {
   "cell_type": "code",
   "execution_count": 64,
   "metadata": {},
   "outputs": [
    {
     "name": "stdout",
     "output_type": "stream",
     "text": [
      "nama apel\n",
      "berat (g) 200\n",
      "warna merah\n"
     ]
    }
   ],
   "source": [
    "for key, value in buah.items():\n",
    "    print(key, value)"
   ]
  },
  {
   "cell_type": "code",
   "execution_count": 66,
   "metadata": {},
   "outputs": [
    {
     "data": {
      "text/plain": [
       "dict_values(['apel', 200, 'merah'])"
      ]
     },
     "execution_count": 66,
     "metadata": {},
     "output_type": "execute_result"
    }
   ],
   "source": [
    "buah.values()"
   ]
  },
  {
   "cell_type": "code",
   "execution_count": 67,
   "metadata": {},
   "outputs": [
    {
     "name": "stdout",
     "output_type": "stream",
     "text": [
      "apel\n",
      "200\n",
      "merah\n"
     ]
    }
   ],
   "source": [
    "for value in buah.values():\n",
    "    print(value)"
   ]
  },
  {
   "cell_type": "code",
   "execution_count": 68,
   "metadata": {},
   "outputs": [
    {
     "name": "stdout",
     "output_type": "stream",
     "text": [
      "nama\n",
      "berat (g)\n",
      "warna\n"
     ]
    }
   ],
   "source": [
    "for key in buah.keys():\n",
    "    print(key)"
   ]
  },
  {
   "cell_type": "code",
   "execution_count": 69,
   "metadata": {},
   "outputs": [
    {
     "data": {
      "text/plain": [
       "range(0, 100)"
      ]
     },
     "execution_count": 69,
     "metadata": {},
     "output_type": "execute_result"
    }
   ],
   "source": [
    "# mau Loop 100 kali\n",
    "# bikin list isi 100 item? pakai range aja\n",
    "range(100) #ngga keliatan, tapi ini isinya 100 item urut dari angka 0"
   ]
  },
  {
   "cell_type": "code",
   "execution_count": 70,
   "metadata": {},
   "outputs": [
    {
     "name": "stdout",
     "output_type": "stream",
     "text": [
      "0\n",
      "1\n",
      "2\n",
      "3\n",
      "4\n",
      "5\n",
      "6\n",
      "7\n",
      "8\n",
      "9\n"
     ]
    }
   ],
   "source": [
    "for i in range(10):\n",
    "    print(i)"
   ]
  },
  {
   "cell_type": "code",
   "execution_count": 75,
   "metadata": {},
   "outputs": [
    {
     "name": "stdout",
     "output_type": "stream",
     "text": [
      "25\n",
      "30\n",
      "35\n",
      "40\n",
      "45\n",
      "50\n",
      "55\n"
     ]
    }
   ],
   "source": [
    "for i in range(25,60,5):\n",
    "    print(i)"
   ]
  },
  {
   "cell_type": "markdown",
   "metadata": {},
   "source": [
    "# Demo"
   ]
  },
  {
   "cell_type": "code",
   "execution_count": 76,
   "metadata": {},
   "outputs": [
    {
     "name": "stdin",
     "output_type": "stream",
     "text": [
      "Ketik karakter :  halo\n"
     ]
    },
    {
     "name": "stdout",
     "output_type": "stream",
     "text": [
      "halo\n"
     ]
    },
    {
     "name": "stdin",
     "output_type": "stream",
     "text": [
      "Ketik karakter :  saya rafika\n"
     ]
    },
    {
     "name": "stdout",
     "output_type": "stream",
     "text": [
      "saya rafika\n"
     ]
    },
    {
     "name": "stdin",
     "output_type": "stream",
     "text": [
      "Ketik karakter :  stop\n"
     ]
    },
    {
     "name": "stdout",
     "output_type": "stream",
     "text": [
      "stop\n"
     ]
    }
   ],
   "source": [
    "while True:\n",
    "    message = input(\"Ketik karakter : \"). lower()\n",
    "    print(message)\n",
    "    if (message == 'stop'):\n",
    "        break;"
   ]
  },
  {
   "cell_type": "code",
   "execution_count": null,
   "metadata": {},
   "outputs": [],
   "source": []
  }
 ],
 "metadata": {
  "kernelspec": {
   "display_name": "Python 3",
   "language": "python",
   "name": "python3"
  },
  "language_info": {
   "codemirror_mode": {
    "name": "ipython",
    "version": 3
   },
   "file_extension": ".py",
   "mimetype": "text/x-python",
   "name": "python",
   "nbconvert_exporter": "python",
   "pygments_lexer": "ipython3",
   "version": "3.7.6"
  }
 },
 "nbformat": 4,
 "nbformat_minor": 4
}
