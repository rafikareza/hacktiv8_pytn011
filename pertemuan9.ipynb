{
 "cells": [
  {
   "cell_type": "markdown",
   "metadata": {},
   "source": [
    "# Descrtiptive Statistics\n",
    "\n",
    "statistik yang mencoba merangkum data kita\n",
    "- measure of central tandency ( seberapa ke tengah)\n",
    "- measure of spread (seberapa tersebarnya data)\n",
    "\n",
    "## Terminologi\n",
    "### Population vs Sample\n",
    "population adalah seluruh data yang mau kita tes/observasi.\n",
    "sample adalah sebagian dari populasi tersebut\n",
    "\n",
    "### Outlier\n",
    "data yang berbeda jauh dari data lainnya. tidak umum\n",
    "\n",
    "## Measure of Central Tandency\n",
    "mencari data yang \"tengah\"\n",
    "- mean (rata2)\n",
    "- median (urutkan semua data dan ambil yang di tengah)\n",
    "- mode (data yang paling sering muncul)\n",
    "\n",
    "## measure of spread¶\n",
    "mencari seberapa tersebar data kita\n",
    "\n",
    "- standard deviation (satu titik ke rata2 kira2 biasanya sejauh apa)\n",
    "- variance (std dev di kuadrat)\n",
    "- range (data max - data min)\n",
    "- percentile (titik ini di posisi ke berapa % dari semua data)\n",
    "- quartile (25, 50, 75 percentile)\n",
    "- skewness (jika digambar sebagai normal distribution, apakah simetris atau berat sebelah dengan buntut panjang)\n",
    "- kurtosis (seberapa banyak nilai yang adalah outlier)\n",
    "- correlation (seberapa terikat 2 variable berbeda, nilai r ini bisa antara -1, 0, 1. Jika 0, tidak ada korelasi)"
   ]
  },
  {
   "cell_type": "markdown",
   "metadata": {},
   "source": [
    "# Statistic di Python"
   ]
  },
  {
   "cell_type": "code",
   "execution_count": 1,
   "metadata": {},
   "outputs": [],
   "source": [
    "import math\n",
    "import statistics\n",
    "import numpy as np\n",
    "import scipy.stats\n",
    "import pandas as pd\n",
    "%matplotlib inline"
   ]
  },
  {
   "cell_type": "code",
   "execution_count": 2,
   "metadata": {},
   "outputs": [
    {
     "name": "stdout",
     "output_type": "stream",
     "text": [
      "nan\n",
      "<class 'float'>\n"
     ]
    }
   ],
   "source": [
    "print(math.nan)\n",
    "print(type(math.nan))"
   ]
  },
  {
   "cell_type": "code",
   "execution_count": 3,
   "metadata": {},
   "outputs": [
    {
     "name": "stdout",
     "output_type": "stream",
     "text": [
      "[8.0, 1, 2.5, 4, 28.0]\n",
      "[8.0, 1, 2.5, nan, 4, 28.0]\n"
     ]
    }
   ],
   "source": [
    "# list python\n",
    "x = [8.0, 1, 2.5, 4, 28.0]\n",
    "x_nan = [8.0, 1, 2.5, math.nan, 4, 28.0]\n",
    "print(x)\n",
    "print(x_nan)"
   ]
  },
  {
   "cell_type": "code",
   "execution_count": 4,
   "metadata": {},
   "outputs": [
    {
     "name": "stdout",
     "output_type": "stream",
     "text": [
      "[ 8.   1.   2.5  4.  28. ]\n",
      "[ 8.   1.   2.5  nan  4.  28. ]\n"
     ]
    }
   ],
   "source": [
    "# numpy array\n",
    "y = np.array(x)\n",
    "y_nan = np.array(x_nan)\n",
    "print(y)\n",
    "print(y_nan)"
   ]
  },
  {
   "cell_type": "code",
   "execution_count": 5,
   "metadata": {},
   "outputs": [
    {
     "name": "stdout",
     "output_type": "stream",
     "text": [
      "0     8.0\n",
      "1     1.0\n",
      "2     2.5\n",
      "3     4.0\n",
      "4    28.0\n",
      "dtype: float64\n",
      "0     8.0\n",
      "1     1.0\n",
      "2     2.5\n",
      "3     NaN\n",
      "4     4.0\n",
      "5    28.0\n",
      "dtype: float64\n"
     ]
    }
   ],
   "source": [
    "# pandas series\n",
    "z = pd.Series(x)\n",
    "z_nan = pd.Series(x_nan)\n",
    "print(z)\n",
    "print(z_nan)"
   ]
  },
  {
   "cell_type": "markdown",
   "metadata": {},
   "source": [
    "# Menghitung rata-rata (Mean) dan central tendency lainnya\n",
    "- mean\n",
    "- weighted\n",
    "- geometric\n",
    "- harmonic\n",
    "- median\n",
    "- mode"
   ]
  },
  {
   "cell_type": "code",
   "execution_count": 6,
   "metadata": {},
   "outputs": [
    {
     "name": "stdout",
     "output_type": "stream",
     "text": [
      "8.7\n",
      "8.7\n",
      "8.7\n",
      "8.7\n"
     ]
    }
   ],
   "source": [
    "# mean\n",
    "print(sum(x)/len(x)) # python\n",
    "print(statistics.mean(x)) #pacakge statistic\n",
    "print(np.mean(y)) #numpy\n",
    "print(z.mean()) #pandas"
   ]
  },
  {
   "cell_type": "code",
   "execution_count": 7,
   "metadata": {},
   "outputs": [
    {
     "name": "stdout",
     "output_type": "stream",
     "text": [
      "nan\n",
      "nan\n",
      "nan\n",
      "8.7\n",
      "8.7\n"
     ]
    }
   ],
   "source": [
    "print(sum(x_nan)/len(x_nan)) # python\n",
    "print(statistics.mean(x_nan)) #pacakge statistic\n",
    "print(np.mean(y_nan)) #numpy\n",
    "print(np.nanmean(y_nan))\n",
    "print(z_nan.mean()) #pandas"
   ]
  },
  {
   "cell_type": "markdown",
   "metadata": {},
   "source": [
    "## Weighted Mean"
   ]
  },
  {
   "cell_type": "code",
   "execution_count": 8,
   "metadata": {},
   "outputs": [
    {
     "data": {
      "text/plain": [
       "[8.0, 1, 2.5, 4, 28.0]"
      ]
     },
     "execution_count": 8,
     "metadata": {},
     "output_type": "execute_result"
    }
   ],
   "source": [
    "x"
   ]
  },
  {
   "cell_type": "code",
   "execution_count": 9,
   "metadata": {},
   "outputs": [],
   "source": [
    "w = [0.1, 0.2, 0.3, 0.25, 0.15]"
   ]
  },
  {
   "cell_type": "code",
   "execution_count": 10,
   "metadata": {},
   "outputs": [
    {
     "data": {
      "text/plain": [
       "1.0"
      ]
     },
     "execution_count": 10,
     "metadata": {},
     "output_type": "execute_result"
    }
   ],
   "source": [
    "sum(w) # total weight biasanya 1.0 untuk 100%"
   ]
  },
  {
   "cell_type": "code",
   "execution_count": 11,
   "metadata": {},
   "outputs": [
    {
     "name": "stdout",
     "output_type": "stream",
     "text": [
      "6.95\n"
     ]
    }
   ],
   "source": [
    "# menghitung dengan manual\n",
    "wmean = sum(w[i] * x[i] for i in range(len(x))) / sum(w)\n",
    "print(wmean)"
   ]
  },
  {
   "cell_type": "code",
   "execution_count": 12,
   "metadata": {},
   "outputs": [
    {
     "name": "stdout",
     "output_type": "stream",
     "text": [
      "6.95\n"
     ]
    },
    {
     "data": {
      "text/plain": [
       "6.95"
      ]
     },
     "execution_count": 12,
     "metadata": {},
     "output_type": "execute_result"
    }
   ],
   "source": [
    "wmean = sum(x_ * w_ for (x_, w_) in zip(x, w)) / sum(w)\n",
    "print(wmean)\n",
    "\n",
    "total = 0\n",
    "for i in range(len(x)):\n",
    "    total += w[i] * x[i]\n",
    "wmean = total / sum(w)\n",
    "wmean"
   ]
  },
  {
   "cell_type": "code",
   "execution_count": 13,
   "metadata": {},
   "outputs": [
    {
     "name": "stdout",
     "output_type": "stream",
     "text": [
      "6.95\n",
      "6.95\n",
      "6.95\n"
     ]
    }
   ],
   "source": [
    "# menghitung weighted mean dengan package lain\n",
    "y, z, w = np.array(x), pd.Series(x), np.array(w)\n",
    "\n",
    "wmean = np.average(y, weights=w)\n",
    "print(wmean)\n",
    "\n",
    "wmean = np.average(z, weights=w)\n",
    "print(wmean)\n",
    "\n",
    "# kalikan dua numpy array juga bisa\n",
    "wmean = sum(w * y) / sum(w)\n",
    "print(wmean)"
   ]
  },
  {
   "cell_type": "markdown",
   "metadata": {},
   "source": [
    "## Harmonic Mean\n",
    "jumlah data / (1/data1 + 1/data2 + ...)\n",
    "\n",
    "berbeda dengan mean biasa: (data1 + data2 + ...) / jumlah data"
   ]
  },
  {
   "cell_type": "code",
   "execution_count": 14,
   "metadata": {},
   "outputs": [
    {
     "data": {
      "text/plain": [
       "2.7613412228796843"
      ]
     },
     "execution_count": 14,
     "metadata": {},
     "output_type": "execute_result"
    }
   ],
   "source": [
    "# cara biasa\n",
    "hmean = len(x) / sum(1 / item for item in x)\n",
    "hmean"
   ]
  },
  {
   "cell_type": "code",
   "execution_count": 15,
   "metadata": {},
   "outputs": [
    {
     "data": {
      "text/plain": [
       "2.7613412228796843"
      ]
     },
     "execution_count": 15,
     "metadata": {},
     "output_type": "execute_result"
    }
   ],
   "source": [
    "# package statistics\n",
    "hmean = statistics.harmonic_mean(x)\n",
    "hmean"
   ]
  },
  {
   "cell_type": "code",
   "execution_count": 16,
   "metadata": {},
   "outputs": [
    {
     "data": {
      "text/plain": [
       "2.7613412228796843"
      ]
     },
     "execution_count": 16,
     "metadata": {},
     "output_type": "execute_result"
    }
   ],
   "source": [
    "# package scipy stats\n",
    "scipy.stats.hmean(y)"
   ]
  },
  {
   "cell_type": "markdown",
   "metadata": {},
   "source": [
    "## Geometric Mean¶\n",
    "mencari rata2 di saat ada angka yang skala nya berbeda"
   ]
  },
  {
   "cell_type": "code",
   "execution_count": 17,
   "metadata": {},
   "outputs": [
    {
     "data": {
      "text/plain": [
       "4.677885674856041"
      ]
     },
     "execution_count": 17,
     "metadata": {},
     "output_type": "execute_result"
    }
   ],
   "source": [
    "# cara biasa\n",
    "gmean = 1\n",
    "\n",
    "for item in x:\n",
    "    gmean *= item\n",
    "\n",
    "gmean **= 1 / len(x)\n",
    "gmean"
   ]
  },
  {
   "cell_type": "code",
   "execution_count": 18,
   "metadata": {},
   "outputs": [
    {
     "data": {
      "text/plain": [
       "4.67788567485604"
      ]
     },
     "execution_count": 18,
     "metadata": {},
     "output_type": "execute_result"
    }
   ],
   "source": [
    "scipy.stats.gmean(y)"
   ]
  },
  {
   "cell_type": "code",
   "execution_count": 19,
   "metadata": {},
   "outputs": [
    {
     "data": {
      "text/plain": [
       "4.67788567485604"
      ]
     },
     "execution_count": 19,
     "metadata": {},
     "output_type": "execute_result"
    }
   ],
   "source": [
    "scipy.stats.gmean(z)"
   ]
  },
  {
   "cell_type": "markdown",
   "metadata": {},
   "source": [
    "## Median"
   ]
  },
  {
   "cell_type": "code",
   "execution_count": 20,
   "metadata": {},
   "outputs": [
    {
     "data": {
      "text/plain": [
       "4"
      ]
     },
     "execution_count": 20,
     "metadata": {},
     "output_type": "execute_result"
    }
   ],
   "source": [
    "# cara manual, sortir dulu, lalu ambil angka tengah\n",
    "n = len(x)\n",
    "if n % 2:\n",
    "    # jumlah angka ganjil\n",
    "    # angka tengah cuma 1, langsung ambil aja\n",
    "    median_ = sorted(x)[round(0.5*(n-1))]\n",
    "else:\n",
    "    # jumlah angka genap\n",
    "    # angka tengahnya ada 2, ditambah lalu dibagi 2\n",
    "    x_ord, index = sorted(x), round(0.5 * n)\n",
    "    median_ = 0.5 * (x_ord[index-1] + x_ord[index])\n",
    "\n",
    "median_"
   ]
  },
  {
   "cell_type": "code",
   "execution_count": 21,
   "metadata": {},
   "outputs": [
    {
     "name": "stdout",
     "output_type": "stream",
     "text": [
      "False\n"
     ]
    }
   ],
   "source": [
    "if 0:\n",
    "    print(True)\n",
    "else:\n",
    "    print(False)"
   ]
  },
  {
   "cell_type": "code",
   "execution_count": 22,
   "metadata": {},
   "outputs": [
    {
     "name": "stdout",
     "output_type": "stream",
     "text": [
      "4\n",
      "4\n",
      "4\n"
     ]
    }
   ],
   "source": [
    "print(statistics.median_low(x))\n",
    "print(statistics.median_high(x))\n",
    "print(statistics.median(x))"
   ]
  },
  {
   "cell_type": "code",
   "execution_count": 23,
   "metadata": {},
   "outputs": [
    {
     "data": {
      "text/plain": [
       "[1, 2.5, 4, 8.0, 28.0]"
      ]
     },
     "execution_count": 23,
     "metadata": {},
     "output_type": "execute_result"
    }
   ],
   "source": [
    "sorted(x)"
   ]
  },
  {
   "cell_type": "code",
   "execution_count": 24,
   "metadata": {},
   "outputs": [
    {
     "name": "stdout",
     "output_type": "stream",
     "text": [
      "3\n",
      "4\n",
      "3.5\n"
     ]
    }
   ],
   "source": [
    "# package statistics\n",
    "d = [1,2,3,4,5,6]\n",
    "print(statistics.median_low(d))\n",
    "print(statistics.median_high(d))\n",
    "print(statistics.median(d))"
   ]
  },
  {
   "cell_type": "code",
   "execution_count": 25,
   "metadata": {},
   "outputs": [
    {
     "name": "stdout",
     "output_type": "stream",
     "text": [
      "4\n",
      "8.0\n",
      "6.0\n"
     ]
    }
   ],
   "source": [
    "print(statistics.median_low(x_nan))\n",
    "print(statistics.median_high(x_nan))\n",
    "print(statistics.median(x_nan))"
   ]
  },
  {
   "cell_type": "code",
   "execution_count": 26,
   "metadata": {},
   "outputs": [
    {
     "data": {
      "text/plain": [
       "4.0"
      ]
     },
     "execution_count": 26,
     "metadata": {},
     "output_type": "execute_result"
    }
   ],
   "source": [
    "# cara numpy\n",
    "np.median(y)"
   ]
  },
  {
   "cell_type": "markdown",
   "metadata": {},
   "source": [
    "## Mode\n",
    "paling sering muncul dari sebuah set data"
   ]
  },
  {
   "cell_type": "code",
   "execution_count": 27,
   "metadata": {},
   "outputs": [
    {
     "name": "stdout",
     "output_type": "stream",
     "text": [
      "(3, 2)\n",
      "2\n"
     ]
    }
   ],
   "source": [
    "u = [2,3,2,8,12,2]\n",
    "v = [12,15,12,15,21,15,12]\n",
    "\n",
    "# cara manual\n",
    "mod = max((u.count(i), i) for i in set(u))\n",
    "print(mod) # index 0 dari mod adalah berapa kali angkanya muncul\n",
    "print(mod[1]) # index 1 adalah angka modus nya"
   ]
  },
  {
   "cell_type": "code",
   "execution_count": 28,
   "metadata": {},
   "outputs": [
    {
     "name": "stdout",
     "output_type": "stream",
     "text": [
      "2\n"
     ]
    }
   ],
   "source": [
    "print(statistics.mode(u)) # package statistics"
   ]
  },
  {
   "cell_type": "code",
   "execution_count": 29,
   "metadata": {},
   "outputs": [
    {
     "name": "stdout",
     "output_type": "stream",
     "text": [
      "ModeResult(mode=array([2]), count=array([3]))\n"
     ]
    }
   ],
   "source": [
    "print(scipy.stats.mode(u)) #package scipy stats"
   ]
  },
  {
   "cell_type": "code",
   "execution_count": 30,
   "metadata": {},
   "outputs": [
    {
     "name": "stdout",
     "output_type": "stream",
     "text": [
      "0    2\n",
      "dtype: int64\n"
     ]
    }
   ],
   "source": [
    "# pandas punya .mode()\n",
    "print((pd.Series(u)).mode())"
   ]
  },
  {
   "cell_type": "markdown",
   "metadata": {},
   "source": [
    "## Measures of Variability\n",
    "melihat seberapa tersebar data kita\n",
    "- variance\n",
    "- std (variance di akar 2)\n",
    "- skewness (seberapa miring)\n",
    "- percentile (quartile juga)\n",
    "- range (perbedaan max dan min)"
   ]
  },
  {
   "cell_type": "code",
   "execution_count": 31,
   "metadata": {},
   "outputs": [
    {
     "data": {
      "text/plain": [
       "[8.0, 1, 2.5, 4, 28.0]"
      ]
     },
     "execution_count": 31,
     "metadata": {},
     "output_type": "execute_result"
    }
   ],
   "source": [
    "x"
   ]
  },
  {
   "cell_type": "code",
   "execution_count": 32,
   "metadata": {},
   "outputs": [
    {
     "name": "stdout",
     "output_type": "stream",
     "text": [
      "123.19999999999999\n"
     ]
    },
    {
     "data": {
      "text/plain": [
       "123.2"
      ]
     },
     "execution_count": 32,
     "metadata": {},
     "output_type": "execute_result"
    }
   ],
   "source": [
    "# cara manual\n",
    "mean_x = sum(x)/ len(x)\n",
    "var_x = sum((i - mean_x)**2 for i in x) / (len(x)-1)\n",
    "print(var_x)\n",
    "\n",
    "round(var_x,2)"
   ]
  },
  {
   "cell_type": "code",
   "execution_count": 33,
   "metadata": {},
   "outputs": [
    {
     "name": "stdout",
     "output_type": "stream",
     "text": [
      "123.2\n"
     ]
    }
   ],
   "source": [
    "# pakai package statistic\n",
    "print(statistics.variance(x))"
   ]
  },
  {
   "cell_type": "code",
   "execution_count": 34,
   "metadata": {},
   "outputs": [
    {
     "name": "stdout",
     "output_type": "stream",
     "text": [
      "123.19999999999999\n"
     ]
    }
   ],
   "source": [
    "# pakai numpy\n",
    "print(np.var(y, ddof=1))"
   ]
  },
  {
   "cell_type": "code",
   "execution_count": 35,
   "metadata": {},
   "outputs": [
    {
     "data": {
      "text/plain": [
       "123.19999999999999"
      ]
     },
     "execution_count": 35,
     "metadata": {},
     "output_type": "execute_result"
    }
   ],
   "source": [
    "# pakai pandas series\n",
    "z.var(ddof=1)"
   ]
  },
  {
   "cell_type": "markdown",
   "metadata": {},
   "source": [
    "## Standard Deviation"
   ]
  },
  {
   "cell_type": "code",
   "execution_count": 36,
   "metadata": {},
   "outputs": [
    {
     "name": "stdout",
     "output_type": "stream",
     "text": [
      "11.099549540409285\n"
     ]
    }
   ],
   "source": [
    "std_x = var_x ** (1/2)\n",
    "print(std_x)"
   ]
  },
  {
   "cell_type": "code",
   "execution_count": 37,
   "metadata": {},
   "outputs": [
    {
     "name": "stdout",
     "output_type": "stream",
     "text": [
      "11.099549540409287\n",
      "11.099549540409285\n",
      "11.099549540409285\n"
     ]
    }
   ],
   "source": [
    "# pakai package statistic\n",
    "print(statistics.stdev(x))\n",
    "\n",
    "# numpy\n",
    "print(np.std(y, ddof=1))\n",
    "\n",
    "# pandas\n",
    "print(z.std(ddof=1))"
   ]
  },
  {
   "cell_type": "markdown",
   "metadata": {},
   "source": [
    "## Skewness"
   ]
  },
  {
   "cell_type": "code",
   "execution_count": 38,
   "metadata": {},
   "outputs": [
    {
     "name": "stdout",
     "output_type": "stream",
     "text": [
      "1.9470432273905929\n"
     ]
    }
   ],
   "source": [
    "# cara manual\n",
    "x = [8.0, 1, 2.5, 4, 28.0]\n",
    "\n",
    "n = len(x)\n",
    "\n",
    "mean_ = sum(x) / n\n",
    "var_ = sum((item - mean_)**2 for item in x) / (n-1)\n",
    "std_ = var_ ** 0.5\n",
    "\n",
    "skew_ = (sum((item - mean_)**3 for item in x) * n / ((n - 1) * (n - 2) * std_**3))\n",
    "print(skew_)"
   ]
  },
  {
   "cell_type": "code",
   "execution_count": 39,
   "metadata": {},
   "outputs": [
    {
     "name": "stdout",
     "output_type": "stream",
     "text": [
      "1.9470432273905927\n"
     ]
    }
   ],
   "source": [
    "# pakai scipy stats dengan numpy array\n",
    "print(scipy.stats.skew(y, bias=False))"
   ]
  },
  {
   "cell_type": "code",
   "execution_count": 40,
   "metadata": {},
   "outputs": [
    {
     "name": "stdout",
     "output_type": "stream",
     "text": [
      "1.9470432273905924\n"
     ]
    }
   ],
   "source": [
    "# pakai pandas series\n",
    "print(z.skew())"
   ]
  },
  {
   "cell_type": "code",
   "execution_count": 41,
   "metadata": {},
   "outputs": [
    {
     "name": "stdout",
     "output_type": "stream",
     "text": [
      "1.9470432273905924\n"
     ]
    }
   ],
   "source": [
    "print(z_nan.skew()) # nan juga bisa"
   ]
  },
  {
   "cell_type": "markdown",
   "metadata": {},
   "source": [
    "## Precentiles\n",
    "- precentile 25 = quartile 1"
   ]
  },
  {
   "cell_type": "code",
   "execution_count": 42,
   "metadata": {},
   "outputs": [
    {
     "name": "stdout",
     "output_type": "stream",
     "text": [
      "[2.5 4.  8. ]\n"
     ]
    }
   ],
   "source": [
    "# pakai numpy\n",
    "print(np.percentile(y, [25, 50, 75]))"
   ]
  },
  {
   "cell_type": "code",
   "execution_count": 43,
   "metadata": {},
   "outputs": [
    {
     "name": "stdout",
     "output_type": "stream",
     "text": [
      "0.25    2.5\n",
      "0.50    4.0\n",
      "0.75    8.0\n",
      "dtype: float64\n"
     ]
    }
   ],
   "source": [
    "# pakai cara pandas\n",
    "print(z.quantile([0.25, 0.50, 0.75]))"
   ]
  },
  {
   "cell_type": "code",
   "execution_count": 44,
   "metadata": {},
   "outputs": [
    {
     "name": "stdout",
     "output_type": "stream",
     "text": [
      "0.25    2.5\n",
      "0.50    4.0\n",
      "0.75    8.0\n",
      "dtype: float64\n"
     ]
    }
   ],
   "source": [
    "# pakai cara pandas\n",
    "print(z.quantile([0.25, 0.50, 0.75]))"
   ]
  },
  {
   "cell_type": "markdown",
   "metadata": {},
   "source": [
    "## Range"
   ]
  },
  {
   "cell_type": "code",
   "execution_count": 45,
   "metadata": {},
   "outputs": [
    {
     "name": "stdout",
     "output_type": "stream",
     "text": [
      "27.0\n",
      "27.0\n",
      "27.0\n",
      "27.0\n"
     ]
    }
   ],
   "source": [
    "# pakai numpy\n",
    "print(np.ptp(y))\n",
    "\n",
    "# sedikit manual, max - min\n",
    "print(np.amax(y) - np.amin(y))\n",
    "print(np.max(y) - np.min(y))\n",
    "\n",
    "# pakai pandas\n",
    "print(z.max() - z.min())"
   ]
  },
  {
   "cell_type": "markdown",
   "metadata": {},
   "source": [
    "### Interquartile Range"
   ]
  },
  {
   "cell_type": "code",
   "execution_count": 46,
   "metadata": {},
   "outputs": [
    {
     "name": "stdout",
     "output_type": "stream",
     "text": [
      "5.5\n",
      "5.5\n"
     ]
    }
   ],
   "source": [
    "# pakai numpy\n",
    "print(np.percentile(y,75) - np.percentile(y,25))\n",
    "\n",
    "# pakai cara pandas\n",
    "print(z.quantile(0.75) - z.quantile(0.25))"
   ]
  },
  {
   "cell_type": "markdown",
   "metadata": {},
   "source": [
    "## Descriptive Stastics"
   ]
  },
  {
   "cell_type": "code",
   "execution_count": 47,
   "metadata": {},
   "outputs": [
    {
     "name": "stdout",
     "output_type": "stream",
     "text": [
      "DescribeResult(nobs=5, minmax=(1.0, 28.0), mean=8.7, variance=123.19999999999999, skewness=1.9470432273905927, kurtosis=3.878019618875446)\n"
     ]
    }
   ],
   "source": [
    "# scipy stats\n",
    "res = scipy.stats.describe(y, ddof=1, bias=False)\n",
    "print(res)"
   ]
  },
  {
   "cell_type": "code",
   "execution_count": 48,
   "metadata": {},
   "outputs": [
    {
     "data": {
      "text/plain": [
       "count     5.00000\n",
       "mean      8.70000\n",
       "std      11.09955\n",
       "min       1.00000\n",
       "25%       2.50000\n",
       "50%       4.00000\n",
       "75%       8.00000\n",
       "max      28.00000\n",
       "dtype: float64"
      ]
     },
     "execution_count": 48,
     "metadata": {},
     "output_type": "execute_result"
    }
   ],
   "source": [
    "# pakai pandas describe\n",
    "z.describe()"
   ]
  },
  {
   "cell_type": "markdown",
   "metadata": {},
   "source": [
    "## Correlation\n",
    "### Covariance"
   ]
  },
  {
   "cell_type": "code",
   "execution_count": 49,
   "metadata": {},
   "outputs": [],
   "source": [
    "# contoh, bikin 2 set data\n",
    "x = list(range(-10,11))\n",
    "y = [0,2,2,2,2,3,3,6,7,4,7,6,6,9,4,5,5,10,11,12,14]\n",
    "\n",
    "xn = np.array(x)\n",
    "yn = np.array(y)\n",
    "\n",
    "xs = pd.Series(x)\n",
    "ys = pd.Series(y)"
   ]
  },
  {
   "cell_type": "code",
   "execution_count": 50,
   "metadata": {},
   "outputs": [
    {
     "data": {
      "text/plain": [
       "range(0, 5)"
      ]
     },
     "execution_count": 50,
     "metadata": {},
     "output_type": "execute_result"
    }
   ],
   "source": [
    "range(n)"
   ]
  },
  {
   "cell_type": "code",
   "execution_count": 51,
   "metadata": {},
   "outputs": [
    {
     "name": "stdout",
     "output_type": "stream",
     "text": [
      "19.95\n"
     ]
    }
   ],
   "source": [
    "# cara manual\n",
    "n = len(x)\n",
    "mean_x = sum(x) / n\n",
    "mean_y = sum(y) / n\n",
    "cov_xy = sum((x[i] - mean_x) * (y[i]-mean_y) for i in range(n)) / (n-1)\n",
    "print(cov_xy)"
   ]
  },
  {
   "cell_type": "code",
   "execution_count": 52,
   "metadata": {},
   "outputs": [
    {
     "name": "stdout",
     "output_type": "stream",
     "text": [
      "[[38.5        19.95      ]\n",
      " [19.95       13.91428571]]\n",
      "38.5\n",
      "13.914285714285711\n",
      "19.95\n"
     ]
    }
   ],
   "source": [
    "# cara numpy\n",
    "print(np.cov(xn, yn))\n",
    "# note kalau numpy punya cov ini kasih covariance matrix\n",
    "# dan untuk dapat cov_xy kita ambil yang di posisi [0,1] atau\n",
    "# yang di posisi [1,0]\n",
    "\n",
    "print(xn.var(ddof=1))\n",
    "print(yn.var(ddof=1))\n",
    "\n",
    "cov_xy = np.cov(xn, yn)[0,1]\n",
    "print(cov_xy)"
   ]
  },
  {
   "cell_type": "code",
   "execution_count": 53,
   "metadata": {},
   "outputs": [
    {
     "name": "stdout",
     "output_type": "stream",
     "text": [
      "19.95\n"
     ]
    }
   ],
   "source": [
    "print(xs.cov(ys))"
   ]
  },
  {
   "cell_type": "markdown",
   "metadata": {},
   "source": [
    "## Correlation Coefficient"
   ]
  },
  {
   "cell_type": "code",
   "execution_count": 54,
   "metadata": {},
   "outputs": [
    {
     "name": "stdout",
     "output_type": "stream",
     "text": [
      "0.861950005631606\n"
     ]
    }
   ],
   "source": [
    "# cara manual\n",
    "# covariance tadi dibagi stc_x * std_y\n",
    "var_x = sum((i - mean_x)**2 for i in x) / (len(x)-1)\n",
    "var_y = sum((i - mean_y)**2 for i in y) / (len(y)-1)\n",
    "std_x, std_y = var_x ** 0.5, var_y ** 0.5\n",
    "r = cov_xy / (std_x * std_y)\n",
    "print(r)"
   ]
  },
  {
   "cell_type": "code",
   "execution_count": 55,
   "metadata": {},
   "outputs": [
    {
     "name": "stdout",
     "output_type": "stream",
     "text": [
      "0.861950005631606\n"
     ]
    }
   ],
   "source": [
    "# pakai scipy stats, dengan numpy array\n",
    "r, p = scipy.stats.pearsonr(xn, yn)\n",
    "print(r)"
   ]
  },
  {
   "cell_type": "code",
   "execution_count": 58,
   "metadata": {},
   "outputs": [
    {
     "name": "stdout",
     "output_type": "stream",
     "text": [
      "0.8619500056316061\n"
     ]
    }
   ],
   "source": [
    "print(np.corrcoef(xn, yn)[0,1]) # pakai numpy punya .corrcoef()"
   ]
  },
  {
   "cell_type": "code",
   "execution_count": 59,
   "metadata": {},
   "outputs": [
    {
     "name": "stdout",
     "output_type": "stream",
     "text": [
      "0.8619500056316061\n"
     ]
    }
   ],
   "source": [
    "# pakai pandas\n",
    "print(xs.corr(ys))"
   ]
  },
  {
   "cell_type": "markdown",
   "metadata": {},
   "source": [
    "## Descriptive Statistics dengan data 2D"
   ]
  },
  {
   "cell_type": "code",
   "execution_count": 60,
   "metadata": {},
   "outputs": [
    {
     "name": "stdout",
     "output_type": "stream",
     "text": [
      "[[ 1  1  1]\n",
      " [ 2  3  1]\n",
      " [ 4  9  2]\n",
      " [ 8 27  4]\n",
      " [16  1  1]]\n"
     ]
    }
   ],
   "source": [
    "a = np.array([[1,1,1],\n",
    "              [2,3,1],\n",
    "              [4,9,2],\n",
    "              [8,27,4],\n",
    "              [16,1,1]\n",
    "             ])\n",
    "print(a)"
   ]
  },
  {
   "cell_type": "code",
   "execution_count": 62,
   "metadata": {},
   "outputs": [
    {
     "name": "stdout",
     "output_type": "stream",
     "text": [
      "5.4\n",
      "2.0\n",
      "53.40000000000001\n"
     ]
    }
   ],
   "source": [
    "print(np.mean(a))\n",
    "print(np.median(a))\n",
    "print(a.var(ddof=1))"
   ]
  },
  {
   "cell_type": "code",
   "execution_count": 63,
   "metadata": {},
   "outputs": [
    {
     "name": "stdout",
     "output_type": "stream",
     "text": [
      "[6.2 8.2 1.8]\n",
      "[4. 3. 1.]\n",
      "[ 37.2 121.2   1.7]\n"
     ]
    }
   ],
   "source": [
    "print(np.mean(a, axis=0))\n",
    "print(np.median(a, axis=0))\n",
    "print(a.var(ddof=1, axis=0))"
   ]
  },
  {
   "cell_type": "code",
   "execution_count": 64,
   "metadata": {},
   "outputs": [
    {
     "name": "stdout",
     "output_type": "stream",
     "text": [
      "[ 1.  2.  5. 13.  6.]\n",
      "[1. 2. 4. 8. 1.]\n",
      "[  0.   1.  13. 151.  75.]\n"
     ]
    }
   ],
   "source": [
    "print(np.mean(a, axis=1))\n",
    "print(np.median(a, axis=1))\n",
    "print(a.var(ddof=1, axis=1))"
   ]
  },
  {
   "cell_type": "code",
   "execution_count": 71,
   "metadata": {},
   "outputs": [
    {
     "name": "stdout",
     "output_type": "stream",
     "text": [
      "[4.         3.73719282 1.51571657]\n",
      "[1.         1.81712059 4.16016765 9.52440631 2.5198421 ]\n",
      "2.829705017016332\n"
     ]
    }
   ],
   "source": [
    "# geometric mean kita minta bantuan scipy stats\n",
    "print(scipy.stats.gmean(a, axis=0))\n",
    "print(scipy.stats.gmean(a, axis=1))\n",
    "print(scipy.stats.gmean(a, axis=None))"
   ]
  },
  {
   "cell_type": "code",
   "execution_count": 72,
   "metadata": {},
   "outputs": [
    {
     "name": "stdout",
     "output_type": "stream",
     "text": [
      "DescribeResult(nobs=5, minmax=(array([1, 1, 1]), array([16, 27,  4])), mean=array([6.2, 8.2, 1.8]), variance=array([ 37.2, 121.2,   1.7]), skewness=array([1.32531471, 1.79809454, 1.71439233]), kurtosis=array([1.30376344, 3.14969121, 2.66435986]))\n",
      "DescribeResult(nobs=3, minmax=(array([1, 1, 2, 4, 1]), array([ 1,  3,  9, 27, 16])), mean=array([ 1.,  2.,  5., 13.,  6.]), variance=array([  0.,   1.,  13., 151.,  75.]), skewness=array([0.        , 0.        , 1.15206964, 1.52787436, 1.73205081]), kurtosis=array([-3. , -1.5, -1.5, -1.5, -1.5]))\n",
      "DescribeResult(nobs=15, minmax=(1, 27), mean=5.4, variance=53.40000000000001, skewness=2.264965290423389, kurtosis=5.212690982795767)\n"
     ]
    }
   ],
   "source": [
    "# angka deskriptif statistik lainnya\n",
    "print(scipy.stats.describe(a, axis=0, ddof=1, bias=False))\n",
    "print(scipy.stats.describe(a, axis=1, ddof=1, bias=False))\n",
    "print(scipy.stats.describe(a, axis=None, ddof=1, bias=False))"
   ]
  },
  {
   "cell_type": "markdown",
   "metadata": {},
   "source": [
    "## scipy. stats. describe\n",
    "- nobs\n",
    "- minmax\n",
    "- mean\n",
    "- variance\n",
    "- skewness\n",
    "- kurtosis"
   ]
  },
  {
   "cell_type": "code",
   "execution_count": 73,
   "metadata": {},
   "outputs": [
    {
     "data": {
      "text/plain": [
       "53.40000000000001"
      ]
     },
     "execution_count": 73,
     "metadata": {},
     "output_type": "execute_result"
    }
   ],
   "source": [
    "scipy.stats.describe(a, axis=None, ddof=1, bias=False).variance"
   ]
  },
  {
   "cell_type": "markdown",
   "metadata": {},
   "source": [
    "## Pandas DataFrame"
   ]
  },
  {
   "cell_type": "code",
   "execution_count": 74,
   "metadata": {},
   "outputs": [
    {
     "data": {
      "text/html": [
       "<div>\n",
       "<style scoped>\n",
       "    .dataframe tbody tr th:only-of-type {\n",
       "        vertical-align: middle;\n",
       "    }\n",
       "\n",
       "    .dataframe tbody tr th {\n",
       "        vertical-align: top;\n",
       "    }\n",
       "\n",
       "    .dataframe thead th {\n",
       "        text-align: right;\n",
       "    }\n",
       "</style>\n",
       "<table border=\"1\" class=\"dataframe\">\n",
       "  <thead>\n",
       "    <tr style=\"text-align: right;\">\n",
       "      <th></th>\n",
       "      <th>A</th>\n",
       "      <th>B</th>\n",
       "      <th>C</th>\n",
       "    </tr>\n",
       "  </thead>\n",
       "  <tbody>\n",
       "    <tr>\n",
       "      <th>first</th>\n",
       "      <td>1</td>\n",
       "      <td>1</td>\n",
       "      <td>1</td>\n",
       "    </tr>\n",
       "    <tr>\n",
       "      <th>second</th>\n",
       "      <td>2</td>\n",
       "      <td>3</td>\n",
       "      <td>1</td>\n",
       "    </tr>\n",
       "    <tr>\n",
       "      <th>third</th>\n",
       "      <td>4</td>\n",
       "      <td>9</td>\n",
       "      <td>2</td>\n",
       "    </tr>\n",
       "    <tr>\n",
       "      <th>fourth</th>\n",
       "      <td>8</td>\n",
       "      <td>27</td>\n",
       "      <td>4</td>\n",
       "    </tr>\n",
       "    <tr>\n",
       "      <th>fifth</th>\n",
       "      <td>16</td>\n",
       "      <td>1</td>\n",
       "      <td>1</td>\n",
       "    </tr>\n",
       "  </tbody>\n",
       "</table>\n",
       "</div>"
      ],
      "text/plain": [
       "         A   B  C\n",
       "first    1   1  1\n",
       "second   2   3  1\n",
       "third    4   9  2\n",
       "fourth   8  27  4\n",
       "fifth   16   1  1"
      ]
     },
     "execution_count": 74,
     "metadata": {},
     "output_type": "execute_result"
    }
   ],
   "source": [
    "row_names = [\"first\", \"second\", \"third\", \"fourth\", \"fifth\"]\n",
    "df = pd.DataFrame(a, index=row_names, columns=[\"A\",\"B\",\"C\"])\n",
    "df\n"
   ]
  },
  {
   "cell_type": "code",
   "execution_count": 75,
   "metadata": {},
   "outputs": [
    {
     "name": "stdout",
     "output_type": "stream",
     "text": [
      "A    6.2\n",
      "B    8.2\n",
      "C    1.8\n",
      "dtype: float64\n",
      "A     37.2\n",
      "B    121.2\n",
      "C      1.7\n",
      "dtype: float64\n"
     ]
    }
   ],
   "source": [
    "print(df.mean())\n",
    "print(df.var())"
   ]
  },
  {
   "cell_type": "code",
   "execution_count": 76,
   "metadata": {},
   "outputs": [
    {
     "name": "stdout",
     "output_type": "stream",
     "text": [
      "A    6.2\n",
      "B    8.2\n",
      "C    1.8\n",
      "dtype: float64\n",
      "A     37.2\n",
      "B    121.2\n",
      "C      1.7\n",
      "dtype: float64\n"
     ]
    }
   ],
   "source": [
    "print(df.mean(axis=0))\n",
    "print(df.var(axis=0))"
   ]
  },
  {
   "cell_type": "code",
   "execution_count": 77,
   "metadata": {},
   "outputs": [
    {
     "name": "stdout",
     "output_type": "stream",
     "text": [
      "first      1.0\n",
      "second     2.0\n",
      "third      5.0\n",
      "fourth    13.0\n",
      "fifth      6.0\n",
      "dtype: float64\n",
      "first       0.0\n",
      "second      1.0\n",
      "third      13.0\n",
      "fourth    151.0\n",
      "fifth      75.0\n",
      "dtype: float64\n"
     ]
    }
   ],
   "source": [
    "print(df.mean(axis=1))\n",
    "print(df.var(axis=1))"
   ]
  },
  {
   "cell_type": "code",
   "execution_count": 78,
   "metadata": {},
   "outputs": [
    {
     "name": "stdout",
     "output_type": "stream",
     "text": [
      "              A          B        C\n",
      "count   5.00000   5.000000  5.00000\n",
      "mean    6.20000   8.200000  1.80000\n",
      "std     6.09918  11.009087  1.30384\n",
      "min     1.00000   1.000000  1.00000\n",
      "25%     2.00000   1.000000  1.00000\n",
      "50%     4.00000   3.000000  1.00000\n",
      "75%     8.00000   9.000000  2.00000\n",
      "max    16.00000  27.000000  4.00000\n"
     ]
    }
   ],
   "source": [
    "print(df.describe())"
   ]
  },
  {
   "cell_type": "code",
   "execution_count": 79,
   "metadata": {},
   "outputs": [
    {
     "data": {
      "text/plain": [
       "11.009087155618309"
      ]
     },
     "execution_count": 79,
     "metadata": {},
     "output_type": "execute_result"
    }
   ],
   "source": [
    "# ambil satu angka dari hasil describe pandas\n",
    "df.describe().at['std', 'B']"
   ]
  }
 ],
 "metadata": {
  "kernelspec": {
   "display_name": "Python 3",
   "language": "python",
   "name": "python3"
  },
  "language_info": {
   "codemirror_mode": {
    "name": "ipython",
    "version": 3
   },
   "file_extension": ".py",
   "mimetype": "text/x-python",
   "name": "python",
   "nbconvert_exporter": "python",
   "pygments_lexer": "ipython3",
   "version": "3.7.6"
  }
 },
 "nbformat": 4,
 "nbformat_minor": 4
}
