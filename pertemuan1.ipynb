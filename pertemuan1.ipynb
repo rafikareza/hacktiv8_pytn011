{
 "cells": [
  {
   "cell_type": "code",
   "execution_count": 1,
   "metadata": {},
   "outputs": [
    {
     "name": "stdout",
     "output_type": "stream",
     "text": [
      "hello\n"
     ]
    }
   ],
   "source": [
    "print(\"hello\")"
   ]
  },
  {
   "cell_type": "code",
   "execution_count": 2,
   "metadata": {},
   "outputs": [],
   "source": [
    "#ini sesi 1"
   ]
  },
  {
   "cell_type": "markdown",
   "metadata": {},
   "source": [
    "# Tipe data di Python\n",
    "- Integer (int)\n",
    "- Floating- Point Numbers (float)\n",
    "- String (str)\n",
    "- Boolean (bool)"
   ]
  },
  {
   "cell_type": "code",
   "execution_count": 7,
   "metadata": {},
   "outputs": [
    {
     "name": "stdout",
     "output_type": "stream",
     "text": [
      "123456\n",
      "<class 'int'>\n"
     ]
    }
   ],
   "source": [
    "print(123456)\n",
    "print(type(4241341))"
   ]
  },
  {
   "cell_type": "code",
   "execution_count": 10,
   "metadata": {},
   "outputs": [
    {
     "name": "stdout",
     "output_type": "stream",
     "text": [
      "12.5\n",
      "<class 'float'>\n",
      "0.0125\n"
     ]
    }
   ],
   "source": [
    "print(12.5)\n",
    "print(type(12.5))\n",
    "print(12.5e-3)"
   ]
  },
  {
   "cell_type": "code",
   "execution_count": 12,
   "metadata": {},
   "outputs": [
    {
     "name": "stdout",
     "output_type": "stream",
     "text": [
      "Hacktiv8 python's first class..\n",
      "<class 'str'>\n"
     ]
    }
   ],
   "source": [
    "print(\"Hacktiv8 python's first class..\")\n",
    "print(type(\"hello\"))"
   ]
  },
  {
   "cell_type": "code",
   "execution_count": 13,
   "metadata": {},
   "outputs": [
    {
     "name": "stdout",
     "output_type": "stream",
     "text": [
      "True\n",
      "<class 'bool'>\n",
      "<class 'bool'>\n"
     ]
    }
   ],
   "source": [
    "print(True)\n",
    "print(type(True))\n",
    "print(type(False))"
   ]
  },
  {
   "cell_type": "markdown",
   "metadata": {},
   "source": [
    "# Pembuatan Variable"
   ]
  },
  {
   "cell_type": "code",
   "execution_count": 16,
   "metadata": {},
   "outputs": [],
   "source": [
    "message = \"Frist class python\"\n",
    "sesi = 1\n",
    "kelas =\"pyton 061\""
   ]
  },
  {
   "cell_type": "code",
   "execution_count": 17,
   "metadata": {},
   "outputs": [
    {
     "name": "stdout",
     "output_type": "stream",
     "text": [
      "Frist class python\n"
     ]
    }
   ],
   "source": [
    "print(message)"
   ]
  },
  {
   "cell_type": "code",
   "execution_count": 18,
   "metadata": {},
   "outputs": [
    {
     "name": "stdout",
     "output_type": "stream",
     "text": [
      "2\n"
     ]
    }
   ],
   "source": [
    "print(sesi+1)"
   ]
  },
  {
   "cell_type": "code",
   "execution_count": 19,
   "metadata": {},
   "outputs": [],
   "source": [
    "a = b = c = 102"
   ]
  },
  {
   "cell_type": "code",
   "execution_count": 20,
   "metadata": {},
   "outputs": [
    {
     "name": "stdout",
     "output_type": "stream",
     "text": [
      "Frist class python 1 pyton 061 102 102 102\n"
     ]
    }
   ],
   "source": [
    "print(message,sesi,kelas,a,b,c)"
   ]
  },
  {
   "cell_type": "markdown",
   "metadata": {},
   "source": [
    "# Cara menamai variable\n",
    "- snake_case untuk menamai variable\n",
    "- camelCase untuk menamai function\n",
    "- PascalCase"
   ]
  },
  {
   "cell_type": "markdown",
   "metadata": {},
   "source": [
    "# Operation and Expressions in Python"
   ]
  },
  {
   "cell_type": "code",
   "execution_count": 21,
   "metadata": {},
   "outputs": [
    {
     "name": "stdout",
     "output_type": "stream",
     "text": [
      "30\n"
     ]
    }
   ],
   "source": [
    "a = 10\n",
    "b =20\n",
    "c = a +b\n",
    "\n",
    "print(c)"
   ]
  },
  {
   "cell_type": "code",
   "execution_count": 22,
   "metadata": {},
   "outputs": [
    {
     "name": "stdout",
     "output_type": "stream",
     "text": [
      "30\n",
      "-10\n"
     ]
    }
   ],
   "source": [
    "print(a+b)\n",
    "print(a-b)"
   ]
  },
  {
   "cell_type": "code",
   "execution_count": 23,
   "metadata": {},
   "outputs": [
    {
     "name": "stdout",
     "output_type": "stream",
     "text": [
      "200\n",
      "0.5\n"
     ]
    }
   ],
   "source": [
    "print(a*b)\n",
    "print(a/b)"
   ]
  },
  {
   "cell_type": "code",
   "execution_count": 24,
   "metadata": {},
   "outputs": [
    {
     "name": "stdout",
     "output_type": "stream",
     "text": [
      "10\n",
      "1\n",
      "2\n"
     ]
    }
   ],
   "source": [
    "#modulo\n",
    "print(a%b)\n",
    "print(5%2)\n",
    "print(20%3)"
   ]
  },
  {
   "cell_type": "code",
   "execution_count": 25,
   "metadata": {},
   "outputs": [
    {
     "name": "stdout",
     "output_type": "stream",
     "text": [
      "100000000000000000000\n",
      "25\n"
     ]
    }
   ],
   "source": [
    "#pangkat\n",
    "print(a**b)\n",
    "print(5**2)"
   ]
  },
  {
   "cell_type": "code",
   "execution_count": 26,
   "metadata": {},
   "outputs": [
    {
     "name": "stdout",
     "output_type": "stream",
     "text": [
      "False\n",
      "True\n",
      "False\n",
      "True\n"
     ]
    }
   ],
   "source": [
    "print(a==b)\n",
    "print(a!=b)\n",
    "print(a>=b)\n",
    "print(a<=b)"
   ]
  },
  {
   "cell_type": "markdown",
   "metadata": {},
   "source": [
    "## String manipulation"
   ]
  },
  {
   "cell_type": "code",
   "execution_count": 29,
   "metadata": {},
   "outputs": [],
   "source": [
    "s = \"hallo\"\n",
    "b = \"bandung\""
   ]
  },
  {
   "cell_type": "code",
   "execution_count": 30,
   "metadata": {},
   "outputs": [
    {
     "name": "stdout",
     "output_type": "stream",
     "text": [
      "hallo\n"
     ]
    }
   ],
   "source": [
    "print(s)"
   ]
  },
  {
   "cell_type": "code",
   "execution_count": 33,
   "metadata": {},
   "outputs": [
    {
     "name": "stdout",
     "output_type": "stream",
     "text": [
      "hallo hallo bandung\n"
     ]
    }
   ],
   "source": [
    "print (s +\" \"+s+\" \"+b)"
   ]
  },
  {
   "cell_type": "code",
   "execution_count": 34,
   "metadata": {},
   "outputs": [
    {
     "name": "stdout",
     "output_type": "stream",
     "text": [
      "hallo \n"
     ]
    }
   ],
   "source": [
    "s = s + \" \"\n",
    "print(s)"
   ]
  },
  {
   "cell_type": "code",
   "execution_count": 35,
   "metadata": {},
   "outputs": [
    {
     "name": "stdout",
     "output_type": "stream",
     "text": [
      "hallo hallo \n"
     ]
    }
   ],
   "source": [
    "print (s*2)"
   ]
  },
  {
   "cell_type": "code",
   "execution_count": 36,
   "metadata": {},
   "outputs": [
    {
     "name": "stdout",
     "output_type": "stream",
     "text": [
      "hallo hallo bandung\n"
     ]
    }
   ],
   "source": [
    "print(s*2+b)"
   ]
  },
  {
   "cell_type": "code",
   "execution_count": 38,
   "metadata": {},
   "outputs": [
    {
     "name": "stdout",
     "output_type": "stream",
     "text": [
      "hallo hallo hallo hallo hallo hallo hallo hallo hallo hallo hallo hallo hallo hallo hallo hallo hallo hallo hallo hallo hallo hallo hallo hallo hallo hallo hallo hallo hallo hallo hallo hallo hallo hallo hallo hallo hallo hallo hallo hallo hallo hallo hallo hallo hallo hallo hallo hallo hallo hallo hallo hallo hallo hallo hallo hallo hallo hallo hallo hallo hallo hallo hallo hallo hallo hallo hallo hallo hallo hallo hallo hallo hallo hallo hallo hallo hallo hallo hallo hallo hallo hallo hallo hallo hallo hallo hallo hallo hallo hallo hallo hallo hallo hallo hallo hallo hallo hallo hallo hallo \n"
     ]
    }
   ],
   "source": [
    "num = 100\n",
    "print(s * num)"
   ]
  },
  {
   "cell_type": "code",
   "execution_count": 40,
   "metadata": {},
   "outputs": [
    {
     "name": "stdout",
     "output_type": "stream",
     "text": [
      "hallo 100\n"
     ]
    },
    {
     "ename": "TypeError",
     "evalue": "can only concatenate str (not \"int\") to str",
     "output_type": "error",
     "traceback": [
      "\u001b[1;31m---------------------------------------------------------------------------\u001b[0m",
      "\u001b[1;31mTypeError\u001b[0m                                 Traceback (most recent call last)",
      "\u001b[1;32m<ipython-input-40-7330010e8c06>\u001b[0m in \u001b[0;36m<module>\u001b[1;34m\u001b[0m\n\u001b[0;32m      1\u001b[0m \u001b[0mprint\u001b[0m\u001b[1;33m(\u001b[0m\u001b[0ms\u001b[0m \u001b[1;33m+\u001b[0m \u001b[0mstr\u001b[0m\u001b[1;33m(\u001b[0m\u001b[0mnum\u001b[0m\u001b[1;33m)\u001b[0m\u001b[1;33m)\u001b[0m\u001b[1;33m\u001b[0m\u001b[1;33m\u001b[0m\u001b[0m\n\u001b[1;32m----> 2\u001b[1;33m \u001b[0mprint\u001b[0m\u001b[1;33m(\u001b[0m\u001b[1;34m\"hacktiv8\"\u001b[0m \u001b[1;33m+\u001b[0m\u001b[1;36m8\u001b[0m\u001b[1;33m)\u001b[0m\u001b[1;33m\u001b[0m\u001b[1;33m\u001b[0m\u001b[0m\n\u001b[0m\u001b[0;32m      3\u001b[0m \u001b[1;31m#error karena str tidak bisa dicampur dengan number\u001b[0m\u001b[1;33m\u001b[0m\u001b[1;33m\u001b[0m\u001b[1;33m\u001b[0m\u001b[0m\n",
      "\u001b[1;31mTypeError\u001b[0m: can only concatenate str (not \"int\") to str"
     ]
    }
   ],
   "source": [
    "print(s + str(num))\n",
    "print(\"hacktiv8\" +8)\n",
    "#error karena str tidak bisa dicampur dengan number"
   ]
  },
  {
   "cell_type": "markdown",
   "metadata": {},
   "source": [
    "## expression in string"
   ]
  },
  {
   "cell_type": "code",
   "execution_count": 42,
   "metadata": {},
   "outputs": [
    {
     "name": "stdout",
     "output_type": "stream",
     "text": [
      "hallo hallo bandung\n"
     ]
    }
   ],
   "source": [
    "message= s*2+b\n",
    "print(message)"
   ]
  },
  {
   "cell_type": "code",
   "execution_count": 43,
   "metadata": {},
   "outputs": [
    {
     "name": "stdout",
     "output_type": "stream",
     "text": [
      "True\n",
      "True\n",
      "True\n"
     ]
    }
   ],
   "source": [
    "print(\"bandung\" in \"halo halo bandung\")\n",
    "print(\"bandung\" in message)\n",
    "print(b in message)"
   ]
  },
  {
   "cell_type": "markdown",
   "metadata": {},
   "source": [
    "## built-in function milik string"
   ]
  },
  {
   "cell_type": "code",
   "execution_count": 44,
   "metadata": {},
   "outputs": [
    {
     "name": "stdout",
     "output_type": "stream",
     "text": [
      "halo HALO Bandung 123\n",
      "Halo halo bandung 123\n",
      "halo halo bandung 123\n",
      "HALO HALO BANDUNG 123\n",
      "HALO halo bANDUNG 123\n",
      "Halo Halo Bandung 123\n"
     ]
    }
   ],
   "source": [
    "message = \"halo HALO Bandung 123\"\n",
    "print(message)\n",
    "print(message.capitalize())\n",
    "print(message.lower())\n",
    "print(message.upper())\n",
    "print(message.swapcase())\n",
    "print(message.title())"
   ]
  },
  {
   "cell_type": "markdown",
   "metadata": {},
   "source": [
    "## Tipe Data List\n",
    "\n",
    "setiap elemen dalam sebuah list punya angka\n",
    "angkanya urut dan dimulai dari 0.\n",
    "nama angka ini adalah INDEX\n",
    "INDEX digunakan untuk mengubah element diposisi tersebut."
   ]
  },
  {
   "cell_type": "code",
   "execution_count": 51,
   "metadata": {},
   "outputs": [],
   "source": [
    "antrian_indomaret = [\"budi\",\"adi\",\"cindy\",\"ana\"]\n"
   ]
  },
  {
   "cell_type": "code",
   "execution_count": 52,
   "metadata": {},
   "outputs": [
    {
     "name": "stdout",
     "output_type": "stream",
     "text": [
      "['budi', 'adi', 'cindy', 'ana']\n"
     ]
    }
   ],
   "source": [
    "print(antrian_indomaret)"
   ]
  },
  {
   "cell_type": "code",
   "execution_count": 49,
   "metadata": {},
   "outputs": [],
   "source": [
    "list_campuran = [123, True, [], \"halo\",12.78]\n",
    "#tidak direkomendasikan\n",
    "#biasakan isi dari sebuah list tipe datanya sama semua"
   ]
  },
  {
   "cell_type": "code",
   "execution_count": 50,
   "metadata": {},
   "outputs": [
    {
     "name": "stdout",
     "output_type": "stream",
     "text": [
      "adi\n"
     ]
    }
   ],
   "source": [
    "print(antrian_indomaret[1])"
   ]
  },
  {
   "cell_type": "code",
   "execution_count": 53,
   "metadata": {},
   "outputs": [],
   "source": [
    "antrian_indomaret2 = [\"ana\",\"adi\",\"cindy\",\"budi\"]"
   ]
  },
  {
   "cell_type": "code",
   "execution_count": 54,
   "metadata": {},
   "outputs": [
    {
     "name": "stdout",
     "output_type": "stream",
     "text": [
      "False\n"
     ]
    }
   ],
   "source": [
    "print(antrian_indomaret == antrian_indomaret2)"
   ]
  },
  {
   "cell_type": "code",
   "execution_count": 55,
   "metadata": {},
   "outputs": [
    {
     "name": "stdout",
     "output_type": "stream",
     "text": [
      "ana\n"
     ]
    }
   ],
   "source": [
    "print(antrian_indomaret[-1])"
   ]
  },
  {
   "cell_type": "code",
   "execution_count": 56,
   "metadata": {},
   "outputs": [
    {
     "name": "stdout",
     "output_type": "stream",
     "text": [
      "cindy\n"
     ]
    }
   ],
   "source": [
    "print(antrian_indomaret[-2])"
   ]
  },
  {
   "cell_type": "code",
   "execution_count": 113,
   "metadata": {},
   "outputs": [
    {
     "name": "stdout",
     "output_type": "stream",
     "text": [
      "['apel', 'anggur']\n",
      "anggur\n"
     ]
    }
   ],
   "source": [
    "# list yang isinya list, namanya \"nasted\"\n",
    "list_buah = [\n",
    "    [\"apel\", \"anggur\"],\n",
    "    [\"mangga\",\"melon\"],\n",
    "    [\"semangka\"]\n",
    "]\n",
    "print(list_buah[0]) #ini dapet list [\"apel,\"anggur]\n",
    "print(list_buah[0][1]) # dapet \"apel\""
   ]
  },
  {
   "cell_type": "code",
   "execution_count": 58,
   "metadata": {},
   "outputs": [
    {
     "name": "stdout",
     "output_type": "stream",
     "text": [
      "['budi', 'adi', 'cindy', 'ana']\n"
     ]
    }
   ],
   "source": [
    "#slicing\n",
    "#membuat list baru dari sebagian list lama\n",
    "print(antrian_indomaret)"
   ]
  },
  {
   "cell_type": "code",
   "execution_count": 59,
   "metadata": {},
   "outputs": [
    {
     "name": "stdout",
     "output_type": "stream",
     "text": [
      "['adi', 'cindy']\n"
     ]
    }
   ],
   "source": [
    "antrian_baru= antrian_indomaret[1:3]\n",
    "print(antrian_baru)"
   ]
  },
  {
   "cell_type": "code",
   "execution_count": 61,
   "metadata": {},
   "outputs": [
    {
     "name": "stdout",
     "output_type": "stream",
     "text": [
      "['adi', 'cindy', 'herman']\n"
     ]
    }
   ],
   "source": [
    "#concatenate\n",
    "print(antrian_baru + [\"herman\"])"
   ]
  },
  {
   "cell_type": "code",
   "execution_count": 62,
   "metadata": {},
   "outputs": [
    {
     "name": "stdout",
     "output_type": "stream",
     "text": [
      "['adi', 'cindy', 'adi', 'cindy', 'adi', 'cindy']\n"
     ]
    }
   ],
   "source": [
    "# replication\n",
    "print(antrian_baru *3)"
   ]
  },
  {
   "cell_type": "markdown",
   "metadata": {},
   "source": [
    "## yukk kita cek properti list"
   ]
  },
  {
   "cell_type": "code",
   "execution_count": 63,
   "metadata": {},
   "outputs": [
    {
     "name": "stdout",
     "output_type": "stream",
     "text": [
      "4\n"
     ]
    }
   ],
   "source": [
    "# Len() ---> Length, untuk cek panjang listnya\n",
    "print(len(antrian_indomaret))"
   ]
  },
  {
   "cell_type": "code",
   "execution_count": 64,
   "metadata": {},
   "outputs": [
    {
     "name": "stdout",
     "output_type": "stream",
     "text": [
      "35\n",
      "90\n"
     ]
    }
   ],
   "source": [
    "# min() ---> minimum\n",
    "# max() ---> maximum\n",
    "list_nilai = [50,60,90,35]\n",
    "print(min(list_nilai))\n",
    "print(max(list_nilai))"
   ]
  },
  {
   "cell_type": "markdown",
   "metadata": {},
   "source": [
    "## ubah satu elemen di list"
   ]
  },
  {
   "cell_type": "code",
   "execution_count": 65,
   "metadata": {},
   "outputs": [
    {
     "name": "stdout",
     "output_type": "stream",
     "text": [
      "['budi', 'adi', 'cindy', 'ana']\n",
      "['budi', 'john', 'cindy', 'ana']\n"
     ]
    }
   ],
   "source": [
    "print(antrian_indomaret)\n",
    "antrian_indomaret[1] = \"john\"\n",
    "print(antrian_indomaret)"
   ]
  },
  {
   "cell_type": "code",
   "execution_count": 85,
   "metadata": {},
   "outputs": [
    {
     "name": "stdout",
     "output_type": "stream",
     "text": [
      "['a', 'd', 'e', 'f']\n"
     ]
    }
   ],
   "source": [
    "del antrian_indomaret[1]\n",
    "print(antrian_indomaret)"
   ]
  },
  {
   "cell_type": "code",
   "execution_count": 72,
   "metadata": {},
   "outputs": [],
   "source": [
    "antrian = ['a', 'b', 'c', 'd', 'e','f']"
   ]
  },
  {
   "cell_type": "code",
   "execution_count": 73,
   "metadata": {},
   "outputs": [
    {
     "name": "stdout",
     "output_type": "stream",
     "text": [
      "['a', 'G', 'H', 'f']\n"
     ]
    }
   ],
   "source": [
    "antrian[1:5] = [\"G\",\"H\"]\n",
    "print(antrian)"
   ]
  },
  {
   "cell_type": "markdown",
   "metadata": {},
   "source": [
    "# Tuples\n",
    "\n",
    "tuples mirip dengan list. ada beberapa perbedaan;\n",
    "- tuples pakai ( )\n",
    "- tuples itu tidak bisa diubah(immutable)"
   ]
  },
  {
   "cell_type": "code",
   "execution_count": 75,
   "metadata": {},
   "outputs": [
    {
     "name": "stdout",
     "output_type": "stream",
     "text": [
      "('a', 'b', 'c', 'd', 'e', 'f')\n",
      "b\n",
      "f\n"
     ]
    }
   ],
   "source": [
    "tuple_alfabet = ( 'a', 'b', 'c', 'd', 'e','f')\n",
    "print(tuple_alfabet) #print tuple\n",
    "print(tuple_alfabet[1])\n",
    "print(tuple_alfabet[-1])"
   ]
  },
  {
   "cell_type": "code",
   "execution_count": 76,
   "metadata": {},
   "outputs": [
    {
     "ename": "TypeError",
     "evalue": "'tuple' object does not support item assignment",
     "output_type": "error",
     "traceback": [
      "\u001b[1;31m---------------------------------------------------------------------------\u001b[0m",
      "\u001b[1;31mTypeError\u001b[0m                                 Traceback (most recent call last)",
      "\u001b[1;32m<ipython-input-76-3880bc2416f5>\u001b[0m in \u001b[0;36m<module>\u001b[1;34m\u001b[0m\n\u001b[1;32m----> 1\u001b[1;33m \u001b[0mtuple_alfabet\u001b[0m\u001b[1;33m[\u001b[0m\u001b[1;36m1\u001b[0m\u001b[1;33m]\u001b[0m\u001b[1;33m=\u001b[0m \u001b[1;34m'g'\u001b[0m\u001b[1;33m\u001b[0m\u001b[1;33m\u001b[0m\u001b[0m\n\u001b[0m\u001b[0;32m      2\u001b[0m \u001b[0mprint\u001b[0m\u001b[1;33m(\u001b[0m\u001b[0mtuple_alfabet\u001b[0m\u001b[1;33m)\u001b[0m\u001b[1;33m\u001b[0m\u001b[1;33m\u001b[0m\u001b[0m\n",
      "\u001b[1;31mTypeError\u001b[0m: 'tuple' object does not support item assignment"
     ]
    }
   ],
   "source": [
    "tuple_alfabet[1]= 'g'\n",
    "print(tuple_alfabet)"
   ]
  },
  {
   "cell_type": "code",
   "execution_count": 77,
   "metadata": {},
   "outputs": [
    {
     "name": "stdout",
     "output_type": "stream",
     "text": [
      "4\n",
      "20\n",
      "70\n"
     ]
    }
   ],
   "source": [
    "tuple_nilai = (20,50,70,20)\n",
    "print(len(tuple_nilai)) \n",
    "print(min(tuple_nilai))\n",
    "print(max(tuple_nilai))"
   ]
  },
  {
   "cell_type": "code",
   "execution_count": 80,
   "metadata": {},
   "outputs": [
    {
     "name": "stdout",
     "output_type": "stream",
     "text": [
      "('a', 'b', 'c', 'd', 'e', 'f', 20, 50, 70, 20)\n",
      "('a', 'malam', 'a', 'malam', 'a', 'malam')\n"
     ]
    }
   ],
   "source": [
    "print(tuple_alfabet + tuple_nilai)\n",
    "print((\"a\", \"malam\") * 3)"
   ]
  },
  {
   "cell_type": "code",
   "execution_count": 86,
   "metadata": {},
   "outputs": [
    {
     "name": "stdout",
     "output_type": "stream",
     "text": [
      "('a', 'd', 'e', 'f')\n"
     ]
    }
   ],
   "source": [
    "print(tuple(antrian_indomaret)) #ubah list jadi tuple"
   ]
  },
  {
   "cell_type": "code",
   "execution_count": 84,
   "metadata": {},
   "outputs": [
    {
     "name": "stdout",
     "output_type": "stream",
     "text": [
      "['a', 'b', 'c', 'd', 'e', 'f']\n"
     ]
    }
   ],
   "source": [
    "print(list(tuple_alfabet)) # ubah tuple jadi list"
   ]
  },
  {
   "cell_type": "markdown",
   "metadata": {},
   "source": [
    "# Dictionary"
   ]
  },
  {
   "cell_type": "code",
   "execution_count": 87,
   "metadata": {},
   "outputs": [
    {
     "name": "stdout",
     "output_type": "stream",
     "text": [
      "{'merk': 'avanza', 'warna': 'silver', 'jumlah_ban': 4, 'tipe': 'automatic'}\n"
     ]
    }
   ],
   "source": [
    "#bikin dictionary pakai { }\n",
    "# isinya adalah key:value pair\n",
    "mobil = {\n",
    "    \"merk\": \"avanza\",\n",
    "    \"warna\": \"silver\",\n",
    "    \"jumlah_ban\": 4,\n",
    "    \"tipe\": \"automatic\"\n",
    "}\n",
    "print(mobil)"
   ]
  },
  {
   "cell_type": "code",
   "execution_count": 88,
   "metadata": {},
   "outputs": [],
   "source": [
    "# major League baseball\n",
    "mlb_team = {\n",
    "    \"Colorado\": 'Rockies',\n",
    "    \"Boston\": 'Red Sox'\n",
    "}"
   ]
  },
  {
   "cell_type": "code",
   "execution_count": 89,
   "metadata": {},
   "outputs": [],
   "source": [
    "orang = {\n",
    "    \"nama\": \"andika\",\n",
    "    \"umur\": 15,\n",
    "    \"hobi\": [\"masak\", \"tidur\", \"main game\"],\n",
    "    \"berkacamata\": False\n",
    "}"
   ]
  },
  {
   "cell_type": "code",
   "execution_count": 91,
   "metadata": {},
   "outputs": [
    {
     "name": "stdout",
     "output_type": "stream",
     "text": [
      "andika\n",
      "15\n",
      "['masak', 'tidur', 'main game']\n",
      "False\n"
     ]
    }
   ],
   "source": [
    "#akses value dari sebuah dictionary menggunakan key\n",
    "print(orang[\"nama\"])\n",
    "print(orang[\"umur\"])\n",
    "print(orang[\"hobi\"])\n",
    "print(orang[\"berkacamata\"])"
   ]
  },
  {
   "cell_type": "code",
   "execution_count": 92,
   "metadata": {},
   "outputs": [
    {
     "name": "stdout",
     "output_type": "stream",
     "text": [
      "{'nama': 'andika', 'umur': 15, 'hobi': ['masak', 'tidur', 'main game'], 'berkacamata': False, 'ijazah': ['sd', 'smp', 'sma']}\n"
     ]
    }
   ],
   "source": [
    "#namabhin pasangan key:value ke sebuah dictionary\n",
    "orang[\"ijazah\"] = [\"sd\", \"smp\", \"sma\"]\n",
    "print(orang)"
   ]
  },
  {
   "cell_type": "code",
   "execution_count": 106,
   "metadata": {},
   "outputs": [
    {
     "name": "stdout",
     "output_type": "stream",
     "text": [
      "['sd', 'smp', 'sma']\n"
     ]
    }
   ],
   "source": [
    "print(orang[\"ijazah\"])"
   ]
  },
  {
   "cell_type": "code",
   "execution_count": 107,
   "metadata": {},
   "outputs": [
    {
     "name": "stdout",
     "output_type": "stream",
     "text": [
      "{'nama': 'andika', 'umur': 20, 'berkacamata': False, 'ijazah': ['sd', 'smp', 'sma']}\n"
     ]
    }
   ],
   "source": [
    "# update sebuah value di dictionary\n",
    "orang[\"umur\"] = 20\n",
    "print(orang)"
   ]
  },
  {
   "cell_type": "code",
   "execution_count": 108,
   "metadata": {},
   "outputs": [
    {
     "ename": "KeyError",
     "evalue": "'hobi'",
     "output_type": "error",
     "traceback": [
      "\u001b[1;31m---------------------------------------------------------------------------\u001b[0m",
      "\u001b[1;31mKeyError\u001b[0m                                  Traceback (most recent call last)",
      "\u001b[1;32m<ipython-input-108-709574218683>\u001b[0m in \u001b[0;36m<module>\u001b[1;34m\u001b[0m\n\u001b[0;32m      1\u001b[0m \u001b[1;31m# menghapus sebuah pasangan key:value di dictionary\u001b[0m\u001b[1;33m\u001b[0m\u001b[1;33m\u001b[0m\u001b[1;33m\u001b[0m\u001b[0m\n\u001b[1;32m----> 2\u001b[1;33m \u001b[1;32mdel\u001b[0m \u001b[0morang\u001b[0m\u001b[1;33m[\u001b[0m\u001b[1;34m\"hobi\"\u001b[0m\u001b[1;33m]\u001b[0m\u001b[1;33m\u001b[0m\u001b[1;33m\u001b[0m\u001b[0m\n\u001b[0m\u001b[0;32m      3\u001b[0m \u001b[0mprint\u001b[0m\u001b[1;33m(\u001b[0m\u001b[0morang\u001b[0m\u001b[1;33m)\u001b[0m\u001b[1;33m\u001b[0m\u001b[1;33m\u001b[0m\u001b[0m\n",
      "\u001b[1;31mKeyError\u001b[0m: 'hobi'"
     ]
    }
   ],
   "source": [
    "# menghapus sebuah pasangan key:value di dictionary\n",
    "del orang[\"hobi\"]\n",
    "print(orang)"
   ]
  },
  {
   "cell_type": "code",
   "execution_count": 110,
   "metadata": {},
   "outputs": [
    {
     "name": "stdout",
     "output_type": "stream",
     "text": [
      "{'nama': 'andika', 'umur': 20, 'berkacamata': False, 'ijazah': ['sd', 'smp', 'sma'], 'nama_orangtua': ('Guntur', 'Kalisah')}\n"
     ]
    }
   ],
   "source": [
    "orang[\"nama_orangtua\"] = (\"Guntur\",\"Kalisah\")\n",
    "print(orang)"
   ]
  },
  {
   "cell_type": "markdown",
   "metadata": {},
   "source": [
    "## bikin dictionary pelan pelan satu pasang"
   ]
  },
  {
   "cell_type": "code",
   "execution_count": 98,
   "metadata": {},
   "outputs": [],
   "source": [
    "orang2 = {}"
   ]
  },
  {
   "cell_type": "code",
   "execution_count": 99,
   "metadata": {},
   "outputs": [
    {
     "name": "stdout",
     "output_type": "stream",
     "text": [
      "{}\n"
     ]
    }
   ],
   "source": [
    "print(orang2)"
   ]
  },
  {
   "cell_type": "code",
   "execution_count": 100,
   "metadata": {},
   "outputs": [
    {
     "name": "stdout",
     "output_type": "stream",
     "text": [
      "{'nama': 'John', 'umur': 54, 'pasangan': 'Jane', 'anak': ['Ralph', 'Betty', 'Joey']}\n"
     ]
    }
   ],
   "source": [
    "orang2[\"nama\"] = \"John\"\n",
    "orang2[\"umur\"] = 54\n",
    "orang2[\"pasangan\"] = \"Jane\"\n",
    "orang2[\"anak\"] = [\"Ralph\",\"Betty\", \"Joey\"]\n",
    "\n",
    "print(orang2)"
   ]
  },
  {
   "cell_type": "code",
   "execution_count": 101,
   "metadata": {},
   "outputs": [
    {
     "name": "stdout",
     "output_type": "stream",
     "text": [
      "dict_items([('nama', 'John'), ('umur', 54), ('pasangan', 'Jane'), ('anak', ['Ralph', 'Betty', 'Joey'])])\n"
     ]
    }
   ],
   "source": [
    "# built-in method dictionary\n",
    "# kasih lihat semua pasangan key:value dictionary ini\n",
    "print(orang2.items()) #list isi tuple"
   ]
  },
  {
   "cell_type": "code",
   "execution_count": 102,
   "metadata": {},
   "outputs": [
    {
     "name": "stdout",
     "output_type": "stream",
     "text": [
      "dict_keys(['nama', 'umur', 'pasangan', 'anak'])\n",
      "dict_values(['John', 54, 'Jane', ['Ralph', 'Betty', 'Joey']])\n"
     ]
    }
   ],
   "source": [
    "# kasih lihat semua key aja\n",
    "print(orang2.keys()) #list\n",
    "\n",
    "# kasih liat semua value saja\n",
    "print(orang2.values()) #list"
   ]
  },
  {
   "cell_type": "markdown",
   "metadata": {},
   "source": [
    "# Line Continuation\n",
    "\n",
    "codenya panjang ke kanan sampai keluar layar, caranya biar codenya bisa pindah ke baris baru aja, tapi gak eror adalah dengan memalai kurung ()"
   ]
  },
  {
   "cell_type": "code",
   "execution_count": 111,
   "metadata": {},
   "outputs": [
    {
     "name": "stdout",
     "output_type": "stream",
     "text": [
      "True\n"
     ]
    }
   ],
   "source": [
    "umur_andika = 20\n",
    "umur_john = 64\n",
    "umur_jane = 59\n",
    "\n",
    "seseorang_lansia_diantara_mereka = ((umur_andika >= 60) or (umur_john >= 60) or (umur_jane >= 60))\n",
    "print(seseorang_lansia_diantara_mereka)"
   ]
  },
  {
   "cell_type": "code",
   "execution_count": null,
   "metadata": {},
   "outputs": [],
   "source": []
  }
 ],
 "metadata": {
  "kernelspec": {
   "display_name": "Python 3",
   "language": "python",
   "name": "python3"
  },
  "language_info": {
   "codemirror_mode": {
    "name": "ipython",
    "version": 3
   },
   "file_extension": ".py",
   "mimetype": "text/x-python",
   "name": "python",
   "nbconvert_exporter": "python",
   "pygments_lexer": "ipython3",
   "version": "3.7.6"
  }
 },
 "nbformat": 4,
 "nbformat_minor": 4
}
